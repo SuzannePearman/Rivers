{
 "cells": [
  {
   "cell_type": "code",
   "execution_count": 1,
   "id": "9b03e61b",
   "metadata": {
    "scrolled": true
   },
   "outputs": [],
   "source": [
    "# Notebook 7 - Looking at a flood day.\n",
    "# 28th March 2024 was a flood day.  The river was bank full and in \n",
    "# the field at about 2:30pm* and continued to rise until past 5pm.  \n",
    "# What does a graph of that day look like?\n",
    "\n",
    "# * Note this was only when I observed it, not necessarily when it \n",
    "# reached our local field."
   ]
  },
  {
   "cell_type": "code",
   "execution_count": 2,
   "id": "582fc2bb",
   "metadata": {},
   "outputs": [],
   "source": [
    "import pandas as pd     \n",
    "import requests \n",
    "import matplotlib.pyplot as plt\n",
    "import matplotlib.ticker as ticker"
   ]
  },
  {
   "cell_type": "code",
   "execution_count": 3,
   "id": "c4219900",
   "metadata": {},
   "outputs": [
    {
     "name": "stdout",
     "output_type": "stream",
     "text": [
      "<class 'pandas.core.frame.DataFrame'>\n",
      "RangeIndex: 398954 entries, 0 to 398953\n",
      "Data columns (total 13 columns):\n",
      " #   Column            Non-Null Count   Dtype \n",
      "---  ------            --------------   ----- \n",
      " 0   dateTime          398954 non-null  object\n",
      " 1   date              398954 non-null  object\n",
      " 2   measure           398954 non-null  object\n",
      " 3   station           398954 non-null  object\n",
      " 4   label             398954 non-null  object\n",
      " 5   stationReference  398954 non-null  object\n",
      " 6   parameter         398954 non-null  object\n",
      " 7   qualifier         387450 non-null  object\n",
      " 8   datumType         182972 non-null  object\n",
      " 9   period            398954 non-null  int64 \n",
      " 10  unitName          398954 non-null  object\n",
      " 11  valueType         398954 non-null  object\n",
      " 12  value             398948 non-null  object\n",
      "dtypes: int64(1), object(12)\n",
      "memory usage: 39.6+ MB\n"
     ]
    }
   ],
   "source": [
    "df = pd.read_csv(\"data/readings-full-2024-03-28.csv\") \n",
    "\n",
    "df.info()"
   ]
  },
  {
   "cell_type": "code",
   "execution_count": 4,
   "id": "09fbfb00",
   "metadata": {},
   "outputs": [
    {
     "data": {
      "text/html": [
       "<div>\n",
       "<style scoped>\n",
       "    .dataframe tbody tr th:only-of-type {\n",
       "        vertical-align: middle;\n",
       "    }\n",
       "\n",
       "    .dataframe tbody tr th {\n",
       "        vertical-align: top;\n",
       "    }\n",
       "\n",
       "    .dataframe thead th {\n",
       "        text-align: right;\n",
       "    }\n",
       "</style>\n",
       "<table border=\"1\" class=\"dataframe\">\n",
       "  <thead>\n",
       "    <tr style=\"text-align: right;\">\n",
       "      <th></th>\n",
       "      <th>dateTime</th>\n",
       "      <th>date</th>\n",
       "      <th>measure</th>\n",
       "      <th>station</th>\n",
       "      <th>label</th>\n",
       "      <th>stationReference</th>\n",
       "      <th>parameter</th>\n",
       "      <th>qualifier</th>\n",
       "      <th>datumType</th>\n",
       "      <th>period</th>\n",
       "      <th>unitName</th>\n",
       "      <th>valueType</th>\n",
       "      <th>value</th>\n",
       "    </tr>\n",
       "  </thead>\n",
       "  <tbody>\n",
       "    <tr>\n",
       "      <th>0</th>\n",
       "      <td>2024-03-28T00:00:00Z</td>\n",
       "      <td>2024-03-28</td>\n",
       "      <td>http://environment.data.gov.uk/flood-monitorin...</td>\n",
       "      <td>http://environment.data.gov.uk/flood-monitorin...</td>\n",
       "      <td>Loughborough</td>\n",
       "      <td>4205</td>\n",
       "      <td>level</td>\n",
       "      <td>Stage</td>\n",
       "      <td>http://environment.data.gov.uk/flood-monitorin...</td>\n",
       "      <td>900</td>\n",
       "      <td>mASD</td>\n",
       "      <td>instantaneous</td>\n",
       "      <td>0.132</td>\n",
       "    </tr>\n",
       "    <tr>\n",
       "      <th>1</th>\n",
       "      <td>2024-03-28T00:00:00Z</td>\n",
       "      <td>2024-03-28</td>\n",
       "      <td>http://environment.data.gov.uk/flood-monitorin...</td>\n",
       "      <td>http://environment.data.gov.uk/flood-monitorin...</td>\n",
       "      <td>AVON WEIR</td>\n",
       "      <td>531166</td>\n",
       "      <td>level</td>\n",
       "      <td>Downstream Stage</td>\n",
       "      <td>http://environment.data.gov.uk/flood-monitorin...</td>\n",
       "      <td>900</td>\n",
       "      <td>mAOD</td>\n",
       "      <td>instantaneous</td>\n",
       "      <td>50.443</td>\n",
       "    </tr>\n",
       "  </tbody>\n",
       "</table>\n",
       "</div>"
      ],
      "text/plain": [
       "               dateTime        date  \\\n",
       "0  2024-03-28T00:00:00Z  2024-03-28   \n",
       "1  2024-03-28T00:00:00Z  2024-03-28   \n",
       "\n",
       "                                             measure  \\\n",
       "0  http://environment.data.gov.uk/flood-monitorin...   \n",
       "1  http://environment.data.gov.uk/flood-monitorin...   \n",
       "\n",
       "                                             station         label  \\\n",
       "0  http://environment.data.gov.uk/flood-monitorin...  Loughborough   \n",
       "1  http://environment.data.gov.uk/flood-monitorin...     AVON WEIR   \n",
       "\n",
       "  stationReference parameter         qualifier  \\\n",
       "0             4205     level             Stage   \n",
       "1           531166     level  Downstream Stage   \n",
       "\n",
       "                                           datumType  period unitName  \\\n",
       "0  http://environment.data.gov.uk/flood-monitorin...     900     mASD   \n",
       "1  http://environment.data.gov.uk/flood-monitorin...     900     mAOD   \n",
       "\n",
       "       valueType   value  \n",
       "0  instantaneous   0.132  \n",
       "1  instantaneous  50.443  "
      ]
     },
     "execution_count": 4,
     "metadata": {},
     "output_type": "execute_result"
    }
   ],
   "source": [
    "df.head(2)"
   ]
  },
  {
   "cell_type": "code",
   "execution_count": 5,
   "id": "6dd2ce21",
   "metadata": {},
   "outputs": [
    {
     "name": "stdout",
     "output_type": "stream",
     "text": [
      "<class 'pandas.core.frame.DataFrame'>\n",
      "RangeIndex: 398954 entries, 0 to 398953\n",
      "Data columns (total 13 columns):\n",
      " #   Column            Non-Null Count   Dtype         \n",
      "---  ------            --------------   -----         \n",
      " 0   dateTime          398954 non-null  datetime64[ns]\n",
      " 1   date              398954 non-null  object        \n",
      " 2   measure           398954 non-null  object        \n",
      " 3   station           398954 non-null  object        \n",
      " 4   label             398954 non-null  object        \n",
      " 5   stationReference  398954 non-null  object        \n",
      " 6   parameter         398954 non-null  object        \n",
      " 7   qualifier         387450 non-null  object        \n",
      " 8   datumType         182972 non-null  object        \n",
      " 9   period            398954 non-null  int64         \n",
      " 10  unitName          398954 non-null  object        \n",
      " 11  valueType         398954 non-null  object        \n",
      " 12  value             398948 non-null  object        \n",
      "dtypes: datetime64[ns](1), int64(1), object(11)\n",
      "memory usage: 39.6+ MB\n"
     ]
    }
   ],
   "source": [
    "# Sort out the datetime\n",
    "df[\"dateTime\"] = pd.to_datetime(df[\"dateTime\"], \n",
    "                                format='%Y-%m-%dT%H:%M:%SZ')\n",
    "df.info()"
   ]
  },
  {
   "cell_type": "code",
   "execution_count": 6,
   "id": "a06fbe73",
   "metadata": {},
   "outputs": [
    {
     "name": "stdout",
     "output_type": "stream",
     "text": [
      "<class 'pandas.core.frame.DataFrame'>\n",
      "Index: 85 entries, 7755 to 396504\n",
      "Data columns (total 13 columns):\n",
      " #   Column            Non-Null Count  Dtype         \n",
      "---  ------            --------------  -----         \n",
      " 0   dateTime          85 non-null     datetime64[ns]\n",
      " 1   date              85 non-null     object        \n",
      " 2   measure           85 non-null     object        \n",
      " 3   station           85 non-null     object        \n",
      " 4   label             85 non-null     object        \n",
      " 5   stationReference  85 non-null     object        \n",
      " 6   parameter         85 non-null     object        \n",
      " 7   qualifier         85 non-null     object        \n",
      " 8   datumType         0 non-null      object        \n",
      " 9   period            85 non-null     int64         \n",
      " 10  unitName          85 non-null     object        \n",
      " 11  valueType         85 non-null     object        \n",
      " 12  value             85 non-null     float64       \n",
      "dtypes: datetime64[ns](1), float64(1), int64(1), object(10)\n",
      "memory usage: 9.3+ KB\n"
     ]
    }
   ],
   "source": [
    "# splitting out the different sites to different dataframes\n",
    "\n",
    "mask_for_cowley = df[\"stationReference\"] == \"45117\"\n",
    "dfcowley = df[mask_for_cowley].copy()\n",
    "dfcowley[\"value\"] = dfcowley[\"value\"].astype(float)\n",
    "\n",
    "mask_for_upton = df[\"stationReference\"] == \"45136\"\n",
    "dfupton = df[mask_for_upton].copy()\n",
    "dfupton[\"value\"] = dfupton[\"value\"].astype(float)\n",
    "\n",
    "mask_for_yeoford = df[\"stationReference\"] == \"45137\"\n",
    "dfyeoford = df[mask_for_yeoford].copy()\n",
    "dfyeoford[\"value\"] = dfyeoford[\"value\"].astype(float)\n",
    "\n",
    "dfcowley.info()"
   ]
  },
  {
   "cell_type": "code",
   "execution_count": 7,
   "id": "da3ca879",
   "metadata": {},
   "outputs": [
    {
     "data": {
      "text/html": [
       "<div>\n",
       "<style scoped>\n",
       "    .dataframe tbody tr th:only-of-type {\n",
       "        vertical-align: middle;\n",
       "    }\n",
       "\n",
       "    .dataframe tbody tr th {\n",
       "        vertical-align: top;\n",
       "    }\n",
       "\n",
       "    .dataframe thead th {\n",
       "        text-align: right;\n",
       "    }\n",
       "</style>\n",
       "<table border=\"1\" class=\"dataframe\">\n",
       "  <thead>\n",
       "    <tr style=\"text-align: right;\">\n",
       "      <th></th>\n",
       "      <th>date</th>\n",
       "      <th>measure</th>\n",
       "      <th>station</th>\n",
       "      <th>label</th>\n",
       "      <th>stationReference</th>\n",
       "      <th>parameter</th>\n",
       "      <th>qualifier</th>\n",
       "      <th>datumType</th>\n",
       "      <th>period</th>\n",
       "      <th>unitName</th>\n",
       "      <th>valueType</th>\n",
       "      <th>value</th>\n",
       "    </tr>\n",
       "    <tr>\n",
       "      <th>dateTime</th>\n",
       "      <th></th>\n",
       "      <th></th>\n",
       "      <th></th>\n",
       "      <th></th>\n",
       "      <th></th>\n",
       "      <th></th>\n",
       "      <th></th>\n",
       "      <th></th>\n",
       "      <th></th>\n",
       "      <th></th>\n",
       "      <th></th>\n",
       "      <th></th>\n",
       "    </tr>\n",
       "  </thead>\n",
       "  <tbody>\n",
       "    <tr>\n",
       "      <th>2024-03-28 00:30:00</th>\n",
       "      <td>2024-03-28</td>\n",
       "      <td>http://environment.data.gov.uk/flood-monitorin...</td>\n",
       "      <td>http://environment.data.gov.uk/flood-monitorin...</td>\n",
       "      <td>Cowley Bridge</td>\n",
       "      <td>45117</td>\n",
       "      <td>level</td>\n",
       "      <td>Stage</td>\n",
       "      <td>NaN</td>\n",
       "      <td>900</td>\n",
       "      <td>m</td>\n",
       "      <td>instantaneous</td>\n",
       "      <td>1.158</td>\n",
       "    </tr>\n",
       "    <tr>\n",
       "      <th>2024-03-28 00:00:00</th>\n",
       "      <td>2024-03-28</td>\n",
       "      <td>http://environment.data.gov.uk/flood-monitorin...</td>\n",
       "      <td>http://environment.data.gov.uk/flood-monitorin...</td>\n",
       "      <td>Cowley Bridge</td>\n",
       "      <td>45117</td>\n",
       "      <td>level</td>\n",
       "      <td>Stage</td>\n",
       "      <td>NaN</td>\n",
       "      <td>900</td>\n",
       "      <td>m</td>\n",
       "      <td>instantaneous</td>\n",
       "      <td>1.065</td>\n",
       "    </tr>\n",
       "  </tbody>\n",
       "</table>\n",
       "</div>"
      ],
      "text/plain": [
       "                           date  \\\n",
       "dateTime                          \n",
       "2024-03-28 00:30:00  2024-03-28   \n",
       "2024-03-28 00:00:00  2024-03-28   \n",
       "\n",
       "                                                               measure  \\\n",
       "dateTime                                                                 \n",
       "2024-03-28 00:30:00  http://environment.data.gov.uk/flood-monitorin...   \n",
       "2024-03-28 00:00:00  http://environment.data.gov.uk/flood-monitorin...   \n",
       "\n",
       "                                                               station  \\\n",
       "dateTime                                                                 \n",
       "2024-03-28 00:30:00  http://environment.data.gov.uk/flood-monitorin...   \n",
       "2024-03-28 00:00:00  http://environment.data.gov.uk/flood-monitorin...   \n",
       "\n",
       "                             label stationReference parameter qualifier  \\\n",
       "dateTime                                                                  \n",
       "2024-03-28 00:30:00  Cowley Bridge            45117     level     Stage   \n",
       "2024-03-28 00:00:00  Cowley Bridge            45117     level     Stage   \n",
       "\n",
       "                    datumType  period unitName      valueType  value  \n",
       "dateTime                                                              \n",
       "2024-03-28 00:30:00       NaN     900        m  instantaneous  1.158  \n",
       "2024-03-28 00:00:00       NaN     900        m  instantaneous  1.065  "
      ]
     },
     "execution_count": 7,
     "metadata": {},
     "output_type": "execute_result"
    }
   ],
   "source": [
    "dfcowley.set_index(\"dateTime\", inplace=True)\n",
    "dfcowley.head(2)"
   ]
  },
  {
   "cell_type": "code",
   "execution_count": 8,
   "id": "c63632ee",
   "metadata": {},
   "outputs": [],
   "source": [
    "dfcowley.sort_index(inplace=True)"
   ]
  },
  {
   "cell_type": "code",
   "execution_count": 9,
   "id": "bb1a99c7",
   "metadata": {},
   "outputs": [
    {
     "data": {
      "text/html": [
       "<div>\n",
       "<style scoped>\n",
       "    .dataframe tbody tr th:only-of-type {\n",
       "        vertical-align: middle;\n",
       "    }\n",
       "\n",
       "    .dataframe tbody tr th {\n",
       "        vertical-align: top;\n",
       "    }\n",
       "\n",
       "    .dataframe thead th {\n",
       "        text-align: right;\n",
       "    }\n",
       "</style>\n",
       "<table border=\"1\" class=\"dataframe\">\n",
       "  <thead>\n",
       "    <tr style=\"text-align: right;\">\n",
       "      <th></th>\n",
       "      <th>date</th>\n",
       "      <th>measure</th>\n",
       "      <th>station</th>\n",
       "      <th>label</th>\n",
       "      <th>stationReference</th>\n",
       "      <th>parameter</th>\n",
       "      <th>qualifier</th>\n",
       "      <th>datumType</th>\n",
       "      <th>period</th>\n",
       "      <th>unitName</th>\n",
       "      <th>valueType</th>\n",
       "      <th>value</th>\n",
       "    </tr>\n",
       "    <tr>\n",
       "      <th>dateTime</th>\n",
       "      <th></th>\n",
       "      <th></th>\n",
       "      <th></th>\n",
       "      <th></th>\n",
       "      <th></th>\n",
       "      <th></th>\n",
       "      <th></th>\n",
       "      <th></th>\n",
       "      <th></th>\n",
       "      <th></th>\n",
       "      <th></th>\n",
       "      <th></th>\n",
       "    </tr>\n",
       "  </thead>\n",
       "  <tbody>\n",
       "    <tr>\n",
       "      <th>2024-03-28 00:00:00</th>\n",
       "      <td>2024-03-28</td>\n",
       "      <td>http://environment.data.gov.uk/flood-monitorin...</td>\n",
       "      <td>http://environment.data.gov.uk/flood-monitorin...</td>\n",
       "      <td>Cowley Bridge</td>\n",
       "      <td>45117</td>\n",
       "      <td>level</td>\n",
       "      <td>Stage</td>\n",
       "      <td>NaN</td>\n",
       "      <td>900</td>\n",
       "      <td>m</td>\n",
       "      <td>instantaneous</td>\n",
       "      <td>1.065</td>\n",
       "    </tr>\n",
       "    <tr>\n",
       "      <th>2024-03-28 00:15:00</th>\n",
       "      <td>2024-03-28</td>\n",
       "      <td>http://environment.data.gov.uk/flood-monitorin...</td>\n",
       "      <td>http://environment.data.gov.uk/flood-monitorin...</td>\n",
       "      <td>Cowley Bridge</td>\n",
       "      <td>45117</td>\n",
       "      <td>level</td>\n",
       "      <td>Stage</td>\n",
       "      <td>NaN</td>\n",
       "      <td>900</td>\n",
       "      <td>m</td>\n",
       "      <td>instantaneous</td>\n",
       "      <td>1.108</td>\n",
       "    </tr>\n",
       "    <tr>\n",
       "      <th>2024-03-28 00:30:00</th>\n",
       "      <td>2024-03-28</td>\n",
       "      <td>http://environment.data.gov.uk/flood-monitorin...</td>\n",
       "      <td>http://environment.data.gov.uk/flood-monitorin...</td>\n",
       "      <td>Cowley Bridge</td>\n",
       "      <td>45117</td>\n",
       "      <td>level</td>\n",
       "      <td>Stage</td>\n",
       "      <td>NaN</td>\n",
       "      <td>900</td>\n",
       "      <td>m</td>\n",
       "      <td>instantaneous</td>\n",
       "      <td>1.158</td>\n",
       "    </tr>\n",
       "    <tr>\n",
       "      <th>2024-03-28 00:45:00</th>\n",
       "      <td>2024-03-28</td>\n",
       "      <td>http://environment.data.gov.uk/flood-monitorin...</td>\n",
       "      <td>http://environment.data.gov.uk/flood-monitorin...</td>\n",
       "      <td>Cowley Bridge</td>\n",
       "      <td>45117</td>\n",
       "      <td>level</td>\n",
       "      <td>Stage</td>\n",
       "      <td>NaN</td>\n",
       "      <td>900</td>\n",
       "      <td>m</td>\n",
       "      <td>instantaneous</td>\n",
       "      <td>1.217</td>\n",
       "    </tr>\n",
       "    <tr>\n",
       "      <th>2024-03-28 01:00:00</th>\n",
       "      <td>2024-03-28</td>\n",
       "      <td>http://environment.data.gov.uk/flood-monitorin...</td>\n",
       "      <td>http://environment.data.gov.uk/flood-monitorin...</td>\n",
       "      <td>Cowley Bridge</td>\n",
       "      <td>45117</td>\n",
       "      <td>level</td>\n",
       "      <td>Stage</td>\n",
       "      <td>NaN</td>\n",
       "      <td>900</td>\n",
       "      <td>m</td>\n",
       "      <td>instantaneous</td>\n",
       "      <td>1.284</td>\n",
       "    </tr>\n",
       "  </tbody>\n",
       "</table>\n",
       "</div>"
      ],
      "text/plain": [
       "                           date  \\\n",
       "dateTime                          \n",
       "2024-03-28 00:00:00  2024-03-28   \n",
       "2024-03-28 00:15:00  2024-03-28   \n",
       "2024-03-28 00:30:00  2024-03-28   \n",
       "2024-03-28 00:45:00  2024-03-28   \n",
       "2024-03-28 01:00:00  2024-03-28   \n",
       "\n",
       "                                                               measure  \\\n",
       "dateTime                                                                 \n",
       "2024-03-28 00:00:00  http://environment.data.gov.uk/flood-monitorin...   \n",
       "2024-03-28 00:15:00  http://environment.data.gov.uk/flood-monitorin...   \n",
       "2024-03-28 00:30:00  http://environment.data.gov.uk/flood-monitorin...   \n",
       "2024-03-28 00:45:00  http://environment.data.gov.uk/flood-monitorin...   \n",
       "2024-03-28 01:00:00  http://environment.data.gov.uk/flood-monitorin...   \n",
       "\n",
       "                                                               station  \\\n",
       "dateTime                                                                 \n",
       "2024-03-28 00:00:00  http://environment.data.gov.uk/flood-monitorin...   \n",
       "2024-03-28 00:15:00  http://environment.data.gov.uk/flood-monitorin...   \n",
       "2024-03-28 00:30:00  http://environment.data.gov.uk/flood-monitorin...   \n",
       "2024-03-28 00:45:00  http://environment.data.gov.uk/flood-monitorin...   \n",
       "2024-03-28 01:00:00  http://environment.data.gov.uk/flood-monitorin...   \n",
       "\n",
       "                             label stationReference parameter qualifier  \\\n",
       "dateTime                                                                  \n",
       "2024-03-28 00:00:00  Cowley Bridge            45117     level     Stage   \n",
       "2024-03-28 00:15:00  Cowley Bridge            45117     level     Stage   \n",
       "2024-03-28 00:30:00  Cowley Bridge            45117     level     Stage   \n",
       "2024-03-28 00:45:00  Cowley Bridge            45117     level     Stage   \n",
       "2024-03-28 01:00:00  Cowley Bridge            45117     level     Stage   \n",
       "\n",
       "                    datumType  period unitName      valueType  value  \n",
       "dateTime                                                              \n",
       "2024-03-28 00:00:00       NaN     900        m  instantaneous  1.065  \n",
       "2024-03-28 00:15:00       NaN     900        m  instantaneous  1.108  \n",
       "2024-03-28 00:30:00       NaN     900        m  instantaneous  1.158  \n",
       "2024-03-28 00:45:00       NaN     900        m  instantaneous  1.217  \n",
       "2024-03-28 01:00:00       NaN     900        m  instantaneous  1.284  "
      ]
     },
     "execution_count": 9,
     "metadata": {},
     "output_type": "execute_result"
    }
   ],
   "source": [
    "dfcowley.resample(\"15min\")\n",
    "dfcowley.head()"
   ]
  },
  {
   "cell_type": "code",
   "execution_count": 10,
   "id": "3d915a6e",
   "metadata": {},
   "outputs": [],
   "source": [
    "dfcowley.rename(columns = {\"value\": \"Cowley Bridge\"}, \n",
    "                inplace = True)"
   ]
  },
  {
   "cell_type": "code",
   "execution_count": 11,
   "id": "1c79ad62",
   "metadata": {},
   "outputs": [],
   "source": [
    "# NEed to do the same steps for Upton and Yeoford\n",
    "dfupton.set_index(\"dateTime\", inplace=True)\n",
    "dfupton.sort_index(inplace=True)\n",
    "dfupton.resample(\"15min\")\n",
    "dfupton.rename(columns = {\"value\": \"Upton Hellions\"}, \n",
    "               inplace = True)\n",
    "\n",
    "dfyeoford.set_index(\"dateTime\", inplace=True)\n",
    "dfyeoford.sort_index(inplace=True)\n",
    "dfyeoford.resample(\"15min\")\n",
    "dfyeoford.rename(columns = {\"value\": \"Yeoford\"}, inplace = True)"
   ]
  },
  {
   "cell_type": "code",
   "execution_count": null,
   "id": "69f074df",
   "metadata": {},
   "outputs": [],
   "source": []
  },
  {
   "cell_type": "code",
   "execution_count": 37,
   "id": "f87c1851",
   "metadata": {},
   "outputs": [
    {
     "name": "stderr",
     "output_type": "stream",
     "text": [
      "C:\\Users\\suzan\\anaconda3\\Lib\\site-packages\\matplotlib\\axis.py:1732: UserWarning: Parsing dates in %d/%m/%Y %H:%M format when dayfirst=False (the default) was specified. Pass `dayfirst=True` or specify a format to silence this warning.\n",
      "  ret = self.converter.convert(x, self.units, self)\n",
      "C:\\Users\\suzan\\anaconda3\\Lib\\site-packages\\matplotlib\\axis.py:1732: UserWarning: Parsing dates in %d/%m/%Y %H:%M format when dayfirst=False (the default) was specified. Pass `dayfirst=True` or specify a format to silence this warning.\n",
      "  ret = self.converter.convert(x, self.units, self)\n"
     ]
    },
    {
     "data": {
      "image/png": "[encoded data removed]",
      "text/plain": [
       "<Figure size 640x480 with 1 Axes>"
      ]
     },
     "metadata": {},
     "output_type": "display_data"
    }
   ],
   "source": [
    "import matplotlib.dates as mdates\n",
    "\n",
    "fig, ax = plt.subplots()\n",
    "ax.xaxis.set_major_formatter(mdates.DateFormatter('%H:%M'))\n",
    "\n",
    "\n",
    "dfcowley.plot(ax=ax, y=\"Cowley Bridge\", use_index=True, \n",
    "              kind='line',\n",
    "              title=\"River levels on 28th March 2024\", \n",
    "              ylabel=\"River Height (m)\");\n",
    "\n",
    "\n",
    "dfupton.plot(ax=ax, y=\"Upton Hellions\", use_index=True, \n",
    "             kind='line');\n",
    "\n",
    "\n",
    "dfyeoford.plot(ax=ax, y=\"Yeoford\", use_index=True, kind='line');\n",
    "\n",
    "plt.axvline(x=\"28/03/2024 14:30\", color=\"silver\", linestyle=\"--\")\n",
    "ax.set_xlabel(\"Time\");"
   ]
  },
  {
   "cell_type": "code",
   "execution_count": 13,
   "id": "7ae6ce87",
   "metadata": {},
   "outputs": [],
   "source": [
    "# The grey line marks the point I passed the field and saw the \n",
    "# river had started to burst its banks.  Looking at the \"bobbly\" and \n",
    "# flattened nature of the rivers, I would guess that the river \n",
    "# started bursting its banks earlier than when I observed it.\n",
    "# The field was significantly fuller a couple of hours later so \n",
    "# the volume of water was much larger than is captured by river \n",
    "# height.  I guess that is shown by the significantly wider peak \n",
    "# of Cowley Bridge, as the fields slowly drain again.\n"
   ]
  },
  {
   "cell_type": "code",
   "execution_count": 14,
   "id": "f9f80cef",
   "metadata": {},
   "outputs": [
    {
     "name": "stdout",
     "output_type": "stream",
     "text": [
      "<class 'pandas.core.frame.DataFrame'>\n",
      "RangeIndex: 398954 entries, 0 to 398953\n",
      "Data columns (total 13 columns):\n",
      " #   Column            Non-Null Count   Dtype         \n",
      "---  ------            --------------   -----         \n",
      " 0   dateTime          398954 non-null  datetime64[ns]\n",
      " 1   date              398954 non-null  object        \n",
      " 2   measure           398954 non-null  object        \n",
      " 3   station           398954 non-null  object        \n",
      " 4   label             398954 non-null  object        \n",
      " 5   stationReference  398954 non-null  object        \n",
      " 6   parameter         398954 non-null  object        \n",
      " 7   qualifier         387450 non-null  object        \n",
      " 8   datumType         182972 non-null  object        \n",
      " 9   period            398954 non-null  int64         \n",
      " 10  unitName          398954 non-null  object        \n",
      " 11  valueType         398954 non-null  object        \n",
      " 12  value             398948 non-null  object        \n",
      "dtypes: datetime64[ns](1), int64(1), object(11)\n",
      "memory usage: 39.6+ MB\n"
     ]
    }
   ],
   "source": [
    "df2 = pd.read_csv(\"data/readings-full-2024-03-29.csv\") \n",
    "df2[\"dateTime\"] = pd.to_datetime(df2[\"dateTime\"], \n",
    "                                format='%Y-%m-%dT%H:%M:%SZ')\n",
    "df.info()"
   ]
  },
  {
   "cell_type": "code",
   "execution_count": 15,
   "id": "8d6a564b",
   "metadata": {},
   "outputs": [
    {
     "name": "stdout",
     "output_type": "stream",
     "text": [
      "<class 'pandas.core.frame.DataFrame'>\n",
      "Index: 84 entries, 11639 to 372959\n",
      "Data columns (total 13 columns):\n",
      " #   Column            Non-Null Count  Dtype         \n",
      "---  ------            --------------  -----         \n",
      " 0   dateTime          84 non-null     datetime64[ns]\n",
      " 1   date              84 non-null     object        \n",
      " 2   measure           84 non-null     object        \n",
      " 3   station           84 non-null     object        \n",
      " 4   label             84 non-null     object        \n",
      " 5   stationReference  84 non-null     object        \n",
      " 6   parameter         84 non-null     object        \n",
      " 7   qualifier         84 non-null     object        \n",
      " 8   datumType         0 non-null      object        \n",
      " 9   period            84 non-null     int64         \n",
      " 10  unitName          84 non-null     object        \n",
      " 11  valueType         84 non-null     object        \n",
      " 12  value             84 non-null     float64       \n",
      "dtypes: datetime64[ns](1), float64(1), int64(1), object(10)\n",
      "memory usage: 9.2+ KB\n"
     ]
    }
   ],
   "source": [
    "# splitting out the different sites to different dataframes\n",
    "\n",
    "mask_for_cowley = df2[\"stationReference\"] == \"45117\"\n",
    "dfcowley2 = df2[mask_for_cowley].copy()\n",
    "dfcowley2[\"value\"] = dfcowley2[\"value\"].astype(float)\n",
    "\n",
    "mask_for_upton = df2[\"stationReference\"] == \"45136\"\n",
    "dfupton2 = df2[mask_for_upton].copy()\n",
    "dfupton2[\"value\"] = dfupton2[\"value\"].astype(float)\n",
    "\n",
    "mask_for_yeoford = df2[\"stationReference\"] == \"45137\"\n",
    "dfyeoford2 = df2[mask_for_yeoford].copy()\n",
    "dfyeoford2[\"value\"] = dfyeoford2[\"value\"].astype(float)\n",
    "\n",
    "dfcowley2.info()"
   ]
  },
  {
   "cell_type": "code",
   "execution_count": 16,
   "id": "0b73d229",
   "metadata": {},
   "outputs": [],
   "source": [
    "dfcowley2.set_index(\"dateTime\", inplace=True)\n",
    "dfcowley2.sort_index(inplace=True)\n",
    "dfcowley2.resample(\"15min\")\n",
    "dfcowley2.rename(columns = {\"value\": \"Cowley Bridge\"}, \n",
    "                inplace = True)\n",
    "dfcowley_both = pd.concat([dfcowley, dfcowley2], axis = 0)\n",
    "\n",
    "\n",
    "#dfupton2.set_index(\"dateTime\", inplace=True)\n",
    "#dfupton2.sort_index(inplace=True)\n",
    "#dfupton2.resample(\"15min\")\n",
    "#dfupton2.rename(columns = {\"value\": \"Upton Hellions\"}, \n",
    "#               inplace = True)\n",
    "#dfupton_both = pd.concat([dfupton, dfupton2], axis = 0)\n",
    "\n",
    "dfyeoford2.set_index(\"dateTime\", inplace=True)\n",
    "dfyeoford2.sort_index(inplace=True)\n",
    "dfyeoford2.resample(\"15min\")\n",
    "dfyeoford2.rename(columns = {\"value\": \"Yeoford\"}, \n",
    "                  inplace = True)\n",
    "dfyeoford_both = pd.concat([dfyeoford, dfyeoford2], axis = 0)"
   ]
  },
  {
   "cell_type": "code",
   "execution_count": 17,
   "id": "0bccb76b",
   "metadata": {},
   "outputs": [
    {
     "name": "stdout",
     "output_type": "stream",
     "text": [
      "<class 'pandas.core.frame.DataFrame'>\n",
      "DatetimeIndex: 84 entries, 2024-03-29 00:00:00 to 2024-03-29 20:45:00\n",
      "Data columns (total 12 columns):\n",
      " #   Column            Non-Null Count  Dtype  \n",
      "---  ------            --------------  -----  \n",
      " 0   date              84 non-null     object \n",
      " 1   measure           84 non-null     object \n",
      " 2   station           84 non-null     object \n",
      " 3   label             84 non-null     object \n",
      " 4   stationReference  84 non-null     object \n",
      " 5   parameter         84 non-null     object \n",
      " 6   qualifier         84 non-null     object \n",
      " 7   datumType         0 non-null      object \n",
      " 8   period            84 non-null     int64  \n",
      " 9   unitName          84 non-null     object \n",
      " 10  valueType         84 non-null     object \n",
      " 11  Cowley Bridge     84 non-null     float64\n",
      "dtypes: float64(1), int64(1), object(10)\n",
      "memory usage: 8.5+ KB\n"
     ]
    }
   ],
   "source": [
    "dfcowley2.info()"
   ]
  },
  {
   "cell_type": "code",
   "execution_count": 18,
   "id": "d476e06e",
   "metadata": {},
   "outputs": [
    {
     "name": "stdout",
     "output_type": "stream",
     "text": [
      "<class 'pandas.core.frame.DataFrame'>\n",
      "Index: 0 entries\n",
      "Data columns (total 13 columns):\n",
      " #   Column            Non-Null Count  Dtype         \n",
      "---  ------            --------------  -----         \n",
      " 0   dateTime          0 non-null      datetime64[ns]\n",
      " 1   date              0 non-null      object        \n",
      " 2   measure           0 non-null      object        \n",
      " 3   station           0 non-null      object        \n",
      " 4   label             0 non-null      object        \n",
      " 5   stationReference  0 non-null      object        \n",
      " 6   parameter         0 non-null      object        \n",
      " 7   qualifier         0 non-null      object        \n",
      " 8   datumType         0 non-null      object        \n",
      " 9   period            0 non-null      int64         \n",
      " 10  unitName          0 non-null      object        \n",
      " 11  valueType         0 non-null      object        \n",
      " 12  value             0 non-null      float64       \n",
      "dtypes: datetime64[ns](1), float64(1), int64(1), object(10)\n",
      "memory usage: 0.0+ bytes\n"
     ]
    }
   ],
   "source": [
    "dfupton2.info()\n",
    "# The upton reporting must have failed, as no erports today"
   ]
  },
  {
   "cell_type": "code",
   "execution_count": 19,
   "id": "65113556",
   "metadata": {},
   "outputs": [
    {
     "name": "stdout",
     "output_type": "stream",
     "text": [
      "<class 'pandas.core.frame.DataFrame'>\n",
      "DatetimeIndex: 65 entries, 2024-03-29 00:00:00 to 2024-03-29 16:00:00\n",
      "Data columns (total 12 columns):\n",
      " #   Column            Non-Null Count  Dtype  \n",
      "---  ------            --------------  -----  \n",
      " 0   date              65 non-null     object \n",
      " 1   measure           65 non-null     object \n",
      " 2   station           65 non-null     object \n",
      " 3   label             65 non-null     object \n",
      " 4   stationReference  65 non-null     object \n",
      " 5   parameter         65 non-null     object \n",
      " 6   qualifier         65 non-null     object \n",
      " 7   datumType         0 non-null      object \n",
      " 8   period            65 non-null     int64  \n",
      " 9   unitName          65 non-null     object \n",
      " 10  valueType         65 non-null     object \n",
      " 11  Yeoford           65 non-null     float64\n",
      "dtypes: float64(1), int64(1), object(10)\n",
      "memory usage: 6.6+ KB\n"
     ]
    }
   ],
   "source": [
    "dfyeoford2.info()"
   ]
  },
  {
   "cell_type": "code",
   "execution_count": 38,
   "id": "0816d76a",
   "metadata": {},
   "outputs": [
    {
     "name": "stderr",
     "output_type": "stream",
     "text": [
      "C:\\Users\\suzan\\anaconda3\\Lib\\site-packages\\matplotlib\\axis.py:1732: UserWarning: Parsing dates in %d/%m/%Y %H:%M format when dayfirst=False (the default) was specified. Pass `dayfirst=True` or specify a format to silence this warning.\n",
      "  ret = self.converter.convert(x, self.units, self)\n",
      "C:\\Users\\suzan\\anaconda3\\Lib\\site-packages\\matplotlib\\axis.py:1732: UserWarning: Parsing dates in %d/%m/%Y %H:%M format when dayfirst=False (the default) was specified. Pass `dayfirst=True` or specify a format to silence this warning.\n",
      "  ret = self.converter.convert(x, self.units, self)\n"
     ]
    },
    {
     "data": {
      "image/png": "[encoded data removed]",
      "text/plain": [
       "<Figure size 640x480 with 1 Axes>"
      ]
     },
     "metadata": {},
     "output_type": "display_data"
    }
   ],
   "source": [
    "# Plotting both days\n",
    "\n",
    "fig, ax = plt.subplots()\n",
    "ax.xaxis.set_major_formatter(mdates.DateFormatter('%H:%M'))\n",
    "\n",
    "\n",
    "dfcowley_both.plot(ax=ax, y=\"Cowley Bridge\", use_index=True, \n",
    "              kind='line', \n",
    "              title=\"River levels on 28th and 29th March 2024\", \n",
    "              ylabel=\"River Height (m)\");\n",
    "\n",
    "\n",
    "dfupton.plot(ax=ax, y=\"Upton Hellions\", use_index=True, \n",
    "             kind='line');\n",
    "\n",
    "\n",
    "dfyeoford_both.plot(ax=ax, y=\"Yeoford\", use_index=True, kind='line');\n",
    "\n",
    "plt.axvline(x=\"28/03/2024 14:30\", color=\"silver\", linestyle=\"--\")\n",
    "ax.set_xlabel(\"Time\");"
   ]
  },
  {
   "cell_type": "code",
   "execution_count": 22,
   "id": "c35025f8",
   "metadata": {},
   "outputs": [],
   "source": [
    "# The peak of the Cowley Bridge site is significantly wider meaning\n",
    "# it was full for longer.  While this is characteristic of a larger\n",
    "# river it could also show the flooding draining into it as the \n",
    "# fields, that had been storing water drain."
   ]
  },
  {
   "cell_type": "code",
   "execution_count": 35,
   "id": "a7855d0a",
   "metadata": {},
   "outputs": [
    {
     "name": "stdout",
     "output_type": "stream",
     "text": [
      "\u001b[1mCowley Bridge:\u001b[0m\n",
      "dateTime\n",
      "2024-03-28 20:45:00    2.46\n",
      "Name: Cowley Bridge, dtype: float64\n",
      " \n",
      "\u001b[1mUpton Hellions:\u001b[0m\n",
      "dateTime\n",
      "2024-03-28 13:30:00    1.565\n",
      "Name: Upton Hellions, dtype: float64\n",
      " \n",
      "\u001b[1mYeoford:\u001b[0m\n",
      "dateTime\n",
      "2024-03-28 16:15:00    2.269\n",
      "Name: Yeoford, dtype: float64\n"
     ]
    }
   ],
   "source": [
    "# Out of interest, what time was the max?\n",
    "print('\\033[1m'+\"Cowley Bridge:\"+'\\033[0m')\n",
    "print(dfcowley_both[\"Cowley Bridge\"][dfcowley_both[\"Cowley Bridge\"] == dfcowley_both[\"Cowley Bridge\"].max()])\n",
    "print(\" \")\n",
    "print('\\033[1m'+\"Upton Hellions:\"+'\\033[0m')\n",
    "print(dfupton[\"Upton Hellions\"][dfupton[\"Upton Hellions\"] == dfupton[\"Upton Hellions\"].max()])\n",
    "print(\" \")\n",
    "print('\\033[1m'+\"Yeoford:\"+'\\033[0m')\n",
    "print(dfyeoford_both[\"Yeoford\"][dfyeoford_both[\"Yeoford\"] == dfyeoford_both[\"Yeoford\"].max()])"
   ]
  },
  {
   "cell_type": "code",
   "execution_count": null,
   "id": "ad3bc84e",
   "metadata": {},
   "outputs": [],
   "source": [
    "# instantaineous peaks don't really mean much as the peak\n",
    "# lasted a significant period, spread by the flooding."
   ]
  },
  {
   "cell_type": "code",
   "execution_count": null,
   "id": "35739381",
   "metadata": {},
   "outputs": [],
   "source": []
  }
 ],
 "metadata": {
  "kernelspec": {
   "display_name": "Python 3 (ipykernel)",
   "language": "python",
   "name": "python3"
  },
  "language_info": {
   "codemirror_mode": {
    "name": "ipython",
    "version": 3
   },
   "file_extension": ".py",
   "mimetype": "text/x-python",
   "name": "python",
   "nbconvert_exporter": "python",
   "pygments_lexer": "ipython3",
   "version": "3.11.5"
  }
 },
 "nbformat": 4,
 "nbformat_minor": 5
}
