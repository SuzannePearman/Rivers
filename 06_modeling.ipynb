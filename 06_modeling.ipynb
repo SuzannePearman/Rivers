{
 "cells": [
  {
   "cell_type": "code",
   "execution_count": 1,
   "id": "00318e84",
   "metadata": {},
   "outputs": [],
   "source": [
    "# Notebook 6 - looking at if I can use linear regression to create \n",
    "# a model"
   ]
  },
  {
   "cell_type": "code",
   "execution_count": 2,
   "id": "8c703641",
   "metadata": {},
   "outputs": [],
   "source": [
    "#import libraries\n",
    "import pandas as pd\n",
    "from sklearn.linear_model import LinearRegression     \n",
    "from sklearn.model_selection import train_test_split  \n",
    "import seaborn as sns                                    \n",
    "import matplotlib.pyplot as plt"
   ]
  },
  {
   "cell_type": "code",
   "execution_count": 3,
   "id": "be2cc1f1",
   "metadata": {},
   "outputs": [],
   "source": [
    "df = pd.read_csv(\"data/df_all.csv\")"
   ]
  },
  {
   "cell_type": "code",
   "execution_count": 4,
   "id": "1783648e",
   "metadata": {},
   "outputs": [
    {
     "data": {
      "text/html": [
       "<div>\n",
       "<style scoped>\n",
       "    .dataframe tbody tr th:only-of-type {\n",
       "        vertical-align: middle;\n",
       "    }\n",
       "\n",
       "    .dataframe tbody tr th {\n",
       "        vertical-align: top;\n",
       "    }\n",
       "\n",
       "    .dataframe thead th {\n",
       "        text-align: right;\n",
       "    }\n",
       "</style>\n",
       "<table border=\"1\" class=\"dataframe\">\n",
       "  <thead>\n",
       "    <tr style=\"text-align: right;\">\n",
       "      <th></th>\n",
       "      <th>dateTime</th>\n",
       "      <th>date</th>\n",
       "      <th>measure</th>\n",
       "      <th>station</th>\n",
       "      <th>label</th>\n",
       "      <th>stationReference</th>\n",
       "      <th>parameter</th>\n",
       "      <th>qualifier</th>\n",
       "      <th>datumType</th>\n",
       "      <th>period</th>\n",
       "      <th>unitName</th>\n",
       "      <th>valueType</th>\n",
       "      <th>value</th>\n",
       "    </tr>\n",
       "  </thead>\n",
       "  <tbody>\n",
       "    <tr>\n",
       "      <th>0</th>\n",
       "      <td>2023-03-31 00:00:00</td>\n",
       "      <td>31/03/2023</td>\n",
       "      <td>http://environment.data.gov.uk/flood-monitorin...</td>\n",
       "      <td>http://environment.data.gov.uk/flood-monitorin...</td>\n",
       "      <td>Cowley Bridge</td>\n",
       "      <td>45117</td>\n",
       "      <td>level</td>\n",
       "      <td>Stage</td>\n",
       "      <td>NaN</td>\n",
       "      <td>900.0</td>\n",
       "      <td>m</td>\n",
       "      <td>instantaneous</td>\n",
       "      <td>0.984</td>\n",
       "    </tr>\n",
       "    <tr>\n",
       "      <th>1</th>\n",
       "      <td>2023-03-31 01:00:00</td>\n",
       "      <td>31/03/2023</td>\n",
       "      <td>http://environment.data.gov.uk/flood-monitorin...</td>\n",
       "      <td>http://environment.data.gov.uk/flood-monitorin...</td>\n",
       "      <td>Cowley Bridge</td>\n",
       "      <td>45117</td>\n",
       "      <td>level</td>\n",
       "      <td>Stage</td>\n",
       "      <td>NaN</td>\n",
       "      <td>900.0</td>\n",
       "      <td>m</td>\n",
       "      <td>instantaneous</td>\n",
       "      <td>1.104</td>\n",
       "    </tr>\n",
       "  </tbody>\n",
       "</table>\n",
       "</div>"
      ],
      "text/plain": [
       "              dateTime        date  \\\n",
       "0  2023-03-31 00:00:00  31/03/2023   \n",
       "1  2023-03-31 01:00:00  31/03/2023   \n",
       "\n",
       "                                             measure  \\\n",
       "0  http://environment.data.gov.uk/flood-monitorin...   \n",
       "1  http://environment.data.gov.uk/flood-monitorin...   \n",
       "\n",
       "                                             station          label  \\\n",
       "0  http://environment.data.gov.uk/flood-monitorin...  Cowley Bridge   \n",
       "1  http://environment.data.gov.uk/flood-monitorin...  Cowley Bridge   \n",
       "\n",
       "   stationReference parameter qualifier  datumType  period unitName  \\\n",
       "0             45117     level     Stage        NaN   900.0        m   \n",
       "1             45117     level     Stage        NaN   900.0        m   \n",
       "\n",
       "       valueType  value  \n",
       "0  instantaneous  0.984  \n",
       "1  instantaneous  1.104  "
      ]
     },
     "execution_count": 4,
     "metadata": {},
     "output_type": "execute_result"
    }
   ],
   "source": [
    "df.head(2)"
   ]
  },
  {
   "cell_type": "code",
   "execution_count": 5,
   "id": "2e9746a6",
   "metadata": {},
   "outputs": [
    {
     "data": {
      "text/plain": [
       "31081"
      ]
     },
     "execution_count": 5,
     "metadata": {},
     "output_type": "execute_result"
    }
   ],
   "source": [
    "df.dateTime.nunique()"
   ]
  },
  {
   "cell_type": "code",
   "execution_count": 6,
   "id": "fd86c7b0",
   "metadata": {},
   "outputs": [
    {
     "data": {
      "text/plain": [
       "dateTime\n",
       "2023-03-31 00:00:00    3\n",
       "2023-10-19 11:30:00    3\n",
       "2023-10-19 04:30:00    3\n",
       "2023-10-19 04:45:00    3\n",
       "2023-10-19 03:30:00    3\n",
       "                      ..\n",
       "2024-02-19 18:45:00    1\n",
       "2024-02-19 17:00:00    1\n",
       "2024-02-19 17:15:00    1\n",
       "2024-02-19 17:30:00    1\n",
       "2024-02-02 04:45:00    1\n",
       "Name: count, Length: 31081, dtype: int64"
      ]
     },
     "execution_count": 6,
     "metadata": {},
     "output_type": "execute_result"
    }
   ],
   "source": [
    "df.dateTime.value_counts()"
   ]
  },
  {
   "cell_type": "code",
   "execution_count": 7,
   "id": "2eac457d",
   "metadata": {},
   "outputs": [],
   "source": [
    "badtime = df.dateTime.value_counts().index[0]"
   ]
  },
  {
   "cell_type": "code",
   "execution_count": 8,
   "id": "b6381851",
   "metadata": {},
   "outputs": [
    {
     "data": {
      "text/html": [
       "<div>\n",
       "<style scoped>\n",
       "    .dataframe tbody tr th:only-of-type {\n",
       "        vertical-align: middle;\n",
       "    }\n",
       "\n",
       "    .dataframe tbody tr th {\n",
       "        vertical-align: top;\n",
       "    }\n",
       "\n",
       "    .dataframe thead th {\n",
       "        text-align: right;\n",
       "    }\n",
       "</style>\n",
       "<table border=\"1\" class=\"dataframe\">\n",
       "  <thead>\n",
       "    <tr style=\"text-align: right;\">\n",
       "      <th></th>\n",
       "      <th>dateTime</th>\n",
       "      <th>date</th>\n",
       "      <th>measure</th>\n",
       "      <th>station</th>\n",
       "      <th>label</th>\n",
       "      <th>stationReference</th>\n",
       "      <th>parameter</th>\n",
       "      <th>qualifier</th>\n",
       "      <th>datumType</th>\n",
       "      <th>period</th>\n",
       "      <th>unitName</th>\n",
       "      <th>valueType</th>\n",
       "      <th>value</th>\n",
       "    </tr>\n",
       "  </thead>\n",
       "  <tbody>\n",
       "    <tr>\n",
       "      <th>0</th>\n",
       "      <td>2023-03-31 00:00:00</td>\n",
       "      <td>31/03/2023</td>\n",
       "      <td>http://environment.data.gov.uk/flood-monitorin...</td>\n",
       "      <td>http://environment.data.gov.uk/flood-monitorin...</td>\n",
       "      <td>Cowley Bridge</td>\n",
       "      <td>45117</td>\n",
       "      <td>level</td>\n",
       "      <td>Stage</td>\n",
       "      <td>NaN</td>\n",
       "      <td>900.0</td>\n",
       "      <td>m</td>\n",
       "      <td>instantaneous</td>\n",
       "      <td>0.984</td>\n",
       "    </tr>\n",
       "    <tr>\n",
       "      <th>96</th>\n",
       "      <td>2023-03-31 00:00:00</td>\n",
       "      <td>31/03/2023</td>\n",
       "      <td>http://environment.data.gov.uk/flood-monitorin...</td>\n",
       "      <td>http://environment.data.gov.uk/flood-monitorin...</td>\n",
       "      <td>Upton Hellions</td>\n",
       "      <td>45136</td>\n",
       "      <td>level</td>\n",
       "      <td>Stage</td>\n",
       "      <td>NaN</td>\n",
       "      <td>900.0</td>\n",
       "      <td>m</td>\n",
       "      <td>instantaneous</td>\n",
       "      <td>1.129</td>\n",
       "    </tr>\n",
       "    <tr>\n",
       "      <th>192</th>\n",
       "      <td>2023-03-31 00:00:00</td>\n",
       "      <td>31/03/2023</td>\n",
       "      <td>http://environment.data.gov.uk/flood-monitorin...</td>\n",
       "      <td>http://environment.data.gov.uk/flood-monitorin...</td>\n",
       "      <td>Yeoford</td>\n",
       "      <td>45137</td>\n",
       "      <td>level</td>\n",
       "      <td>Stage</td>\n",
       "      <td>NaN</td>\n",
       "      <td>900.0</td>\n",
       "      <td>m</td>\n",
       "      <td>instantaneous</td>\n",
       "      <td>0.928</td>\n",
       "    </tr>\n",
       "  </tbody>\n",
       "</table>\n",
       "</div>"
      ],
      "text/plain": [
       "                dateTime        date  \\\n",
       "0    2023-03-31 00:00:00  31/03/2023   \n",
       "96   2023-03-31 00:00:00  31/03/2023   \n",
       "192  2023-03-31 00:00:00  31/03/2023   \n",
       "\n",
       "                                               measure  \\\n",
       "0    http://environment.data.gov.uk/flood-monitorin...   \n",
       "96   http://environment.data.gov.uk/flood-monitorin...   \n",
       "192  http://environment.data.gov.uk/flood-monitorin...   \n",
       "\n",
       "                                               station           label  \\\n",
       "0    http://environment.data.gov.uk/flood-monitorin...   Cowley Bridge   \n",
       "96   http://environment.data.gov.uk/flood-monitorin...  Upton Hellions   \n",
       "192  http://environment.data.gov.uk/flood-monitorin...         Yeoford   \n",
       "\n",
       "     stationReference parameter qualifier  datumType  period unitName  \\\n",
       "0               45117     level     Stage        NaN   900.0        m   \n",
       "96              45136     level     Stage        NaN   900.0        m   \n",
       "192             45137     level     Stage        NaN   900.0        m   \n",
       "\n",
       "         valueType  value  \n",
       "0    instantaneous  0.984  \n",
       "96   instantaneous  1.129  \n",
       "192  instantaneous  0.928  "
      ]
     },
     "execution_count": 8,
     "metadata": {},
     "output_type": "execute_result"
    }
   ],
   "source": [
    "df.query('dateTime == @badtime')"
   ]
  },
  {
   "cell_type": "code",
   "execution_count": 9,
   "id": "93deeace",
   "metadata": {},
   "outputs": [
    {
     "data": {
      "text/html": [
       "<div>\n",
       "<style scoped>\n",
       "    .dataframe tbody tr th:only-of-type {\n",
       "        vertical-align: middle;\n",
       "    }\n",
       "\n",
       "    .dataframe tbody tr th {\n",
       "        vertical-align: top;\n",
       "    }\n",
       "\n",
       "    .dataframe thead th {\n",
       "        text-align: right;\n",
       "    }\n",
       "</style>\n",
       "<table border=\"1\" class=\"dataframe\">\n",
       "  <thead>\n",
       "    <tr style=\"text-align: right;\">\n",
       "      <th></th>\n",
       "      <th>dateTime</th>\n",
       "      <th>date</th>\n",
       "      <th>measure</th>\n",
       "      <th>station</th>\n",
       "      <th>label</th>\n",
       "      <th>stationReference</th>\n",
       "      <th>parameter</th>\n",
       "      <th>qualifier</th>\n",
       "      <th>datumType</th>\n",
       "      <th>period</th>\n",
       "      <th>unitName</th>\n",
       "      <th>valueType</th>\n",
       "      <th>value</th>\n",
       "    </tr>\n",
       "  </thead>\n",
       "  <tbody>\n",
       "    <tr>\n",
       "      <th>88312</th>\n",
       "      <td>2024-02-29 04:45:00</td>\n",
       "      <td>2024-02-29</td>\n",
       "      <td>http://environment.data.gov.uk/flood-monitorin...</td>\n",
       "      <td>http://environment.data.gov.uk/flood-monitorin...</td>\n",
       "      <td>Yeoford</td>\n",
       "      <td>45137</td>\n",
       "      <td>level</td>\n",
       "      <td>Stage</td>\n",
       "      <td>NaN</td>\n",
       "      <td>900.0</td>\n",
       "      <td>m</td>\n",
       "      <td>instantaneous</td>\n",
       "      <td>0.583</td>\n",
       "    </tr>\n",
       "    <tr>\n",
       "      <th>88313</th>\n",
       "      <td>2024-02-29 06:00:00</td>\n",
       "      <td>2024-02-29</td>\n",
       "      <td>http://environment.data.gov.uk/flood-monitorin...</td>\n",
       "      <td>http://environment.data.gov.uk/flood-monitorin...</td>\n",
       "      <td>Yeoford</td>\n",
       "      <td>45137</td>\n",
       "      <td>level</td>\n",
       "      <td>Stage</td>\n",
       "      <td>NaN</td>\n",
       "      <td>900.0</td>\n",
       "      <td>m</td>\n",
       "      <td>instantaneous</td>\n",
       "      <td>0.584</td>\n",
       "    </tr>\n",
       "  </tbody>\n",
       "</table>\n",
       "</div>"
      ],
      "text/plain": [
       "                  dateTime        date  \\\n",
       "88312  2024-02-29 04:45:00  2024-02-29   \n",
       "88313  2024-02-29 06:00:00  2024-02-29   \n",
       "\n",
       "                                                 measure  \\\n",
       "88312  http://environment.data.gov.uk/flood-monitorin...   \n",
       "88313  http://environment.data.gov.uk/flood-monitorin...   \n",
       "\n",
       "                                                 station    label  \\\n",
       "88312  http://environment.data.gov.uk/flood-monitorin...  Yeoford   \n",
       "88313  http://environment.data.gov.uk/flood-monitorin...  Yeoford   \n",
       "\n",
       "       stationReference parameter qualifier  datumType  period unitName  \\\n",
       "88312             45137     level     Stage        NaN   900.0        m   \n",
       "88313             45137     level     Stage        NaN   900.0        m   \n",
       "\n",
       "           valueType  value  \n",
       "88312  instantaneous  0.583  \n",
       "88313  instantaneous  0.584  "
      ]
     },
     "execution_count": 9,
     "metadata": {},
     "output_type": "execute_result"
    }
   ],
   "source": [
    "df.tail(2)"
   ]
  },
  {
   "cell_type": "code",
   "execution_count": 10,
   "id": "208ca8cc",
   "metadata": {},
   "outputs": [
    {
     "name": "stdout",
     "output_type": "stream",
     "text": [
      "<class 'pandas.core.frame.DataFrame'>\n",
      "RangeIndex: 88314 entries, 0 to 88313\n",
      "Data columns (total 13 columns):\n",
      " #   Column            Non-Null Count  Dtype  \n",
      "---  ------            --------------  -----  \n",
      " 0   dateTime          88314 non-null  object \n",
      " 1   date              88314 non-null  object \n",
      " 2   measure           88314 non-null  object \n",
      " 3   station           88314 non-null  object \n",
      " 4   label             88314 non-null  object \n",
      " 5   stationReference  88314 non-null  int64  \n",
      " 6   parameter         88314 non-null  object \n",
      " 7   qualifier         88314 non-null  object \n",
      " 8   datumType         0 non-null      float64\n",
      " 9   period            88314 non-null  float64\n",
      " 10  unitName          88314 non-null  object \n",
      " 11  valueType         88314 non-null  object \n",
      " 12  value             88286 non-null  float64\n",
      "dtypes: float64(3), int64(1), object(9)\n",
      "memory usage: 8.8+ MB\n"
     ]
    }
   ],
   "source": [
    "df.info()"
   ]
  },
  {
   "cell_type": "code",
   "execution_count": 11,
   "id": "7363db39",
   "metadata": {},
   "outputs": [],
   "source": [
    "# lets drop excess columns"
   ]
  },
  {
   "cell_type": "code",
   "execution_count": 12,
   "id": "a1b7e3c7",
   "metadata": {},
   "outputs": [],
   "source": [
    "df_short = df[[\"dateTime\", \"label\", \"stationReference\", \"value\"]].copy()"
   ]
  },
  {
   "cell_type": "code",
   "execution_count": 13,
   "id": "62dd3346",
   "metadata": {},
   "outputs": [
    {
     "name": "stdout",
     "output_type": "stream",
     "text": [
      "<class 'pandas.core.frame.DataFrame'>\n",
      "RangeIndex: 88314 entries, 0 to 88313\n",
      "Data columns (total 4 columns):\n",
      " #   Column            Non-Null Count  Dtype  \n",
      "---  ------            --------------  -----  \n",
      " 0   dateTime          88314 non-null  object \n",
      " 1   label             88314 non-null  object \n",
      " 2   stationReference  88314 non-null  int64  \n",
      " 3   value             88286 non-null  float64\n",
      "dtypes: float64(1), int64(1), object(2)\n",
      "memory usage: 2.7+ MB\n"
     ]
    }
   ],
   "source": [
    "df_short.info()"
   ]
  },
  {
   "cell_type": "code",
   "execution_count": 14,
   "id": "3eda8e39",
   "metadata": {},
   "outputs": [
    {
     "name": "stdout",
     "output_type": "stream",
     "text": [
      "<class 'pandas.core.frame.DataFrame'>\n",
      "Index: 31046 entries, 0 to 85335\n",
      "Data columns (total 4 columns):\n",
      " #   Column            Non-Null Count  Dtype  \n",
      "---  ------            --------------  -----  \n",
      " 0   dateTime          31046 non-null  object \n",
      " 1   label             31046 non-null  object \n",
      " 2   stationReference  31046 non-null  int64  \n",
      " 3   value             31018 non-null  float64\n",
      "dtypes: float64(1), int64(1), object(2)\n",
      "memory usage: 1.2+ MB\n"
     ]
    }
   ],
   "source": [
    "mask_for_cowley = df_short[\"stationReference\"] == 45117\n",
    "dfcowley = df_short[mask_for_cowley]\n",
    "mask_for_upton = df_short[\"stationReference\"] == 45136\n",
    "dfupton = df_short[mask_for_upton]\n",
    "mask_for_yeoford = df_short[\"stationReference\"] == 45137\n",
    "dfyeoford = df_short[mask_for_yeoford]\n",
    "dfcowley.info()"
   ]
  },
  {
   "cell_type": "code",
   "execution_count": 15,
   "id": "4f1649a5",
   "metadata": {},
   "outputs": [],
   "source": [
    "# NOTE change the start date as more dates are added to the series\n",
    "\n",
    "all_times_index = pd.date_range(\"2023-03-31 00:00:00\", \n",
    "                                \"2024-02-29 23:45:00\", \n",
    "                                freq=\"15min\")\n",
    "all_times = all_times_index.to_frame(index = False,\n",
    "                                     name = \"all_times\")"
   ]
  },
  {
   "cell_type": "code",
   "execution_count": 16,
   "id": "0953bf68",
   "metadata": {},
   "outputs": [
    {
     "name": "stdout",
     "output_type": "stream",
     "text": [
      "<class 'pandas.core.frame.DataFrame'>\n",
      "Index: 28343 entries, 192 to 88313\n",
      "Data columns (total 4 columns):\n",
      " #   Column            Non-Null Count  Dtype  \n",
      "---  ------            --------------  -----  \n",
      " 0   dateTime          28343 non-null  object \n",
      " 1   label             28343 non-null  object \n",
      " 2   stationReference  28343 non-null  int64  \n",
      " 3   value             28343 non-null  float64\n",
      "dtypes: float64(1), int64(1), object(2)\n",
      "memory usage: 1.1+ MB\n"
     ]
    }
   ],
   "source": [
    "dfyeoford.info()"
   ]
  },
  {
   "cell_type": "code",
   "execution_count": 17,
   "id": "fb33ad33",
   "metadata": {
    "scrolled": false
   },
   "outputs": [
    {
     "name": "stdout",
     "output_type": "stream",
     "text": [
      "<class 'pandas.core.frame.DataFrame'>\n",
      "Index: 28925 entries, 96 to 86824\n",
      "Data columns (total 4 columns):\n",
      " #   Column            Non-Null Count  Dtype         \n",
      "---  ------            --------------  -----         \n",
      " 0   dateTime          28925 non-null  datetime64[ns]\n",
      " 1   label             28925 non-null  object        \n",
      " 2   stationReference  28925 non-null  int64         \n",
      " 3   value             28925 non-null  float64       \n",
      "dtypes: datetime64[ns](1), float64(1), int64(1), object(1)\n",
      "memory usage: 1.1+ MB\n"
     ]
    },
    {
     "name": "stderr",
     "output_type": "stream",
     "text": [
      "C:\\Users\\suzan\\AppData\\Local\\Temp\\ipykernel_20888\\3843005463.py:7: SettingWithCopyWarning: \n",
      "A value is trying to be set on a copy of a slice from a DataFrame.\n",
      "Try using .loc[row_indexer,col_indexer] = value instead\n",
      "\n",
      "See the caveats in the documentation: https://pandas.pydata.org/pandas-docs/stable/user_guide/indexing.html#returning-a-view-versus-a-copy\n",
      "  dfyeoford[\"dateTime\"] = pd.to_datetime(dfyeoford[\"dateTime\"],\n",
      "C:\\Users\\suzan\\AppData\\Local\\Temp\\ipykernel_20888\\3843005463.py:9: SettingWithCopyWarning: \n",
      "A value is trying to be set on a copy of a slice from a DataFrame.\n",
      "Try using .loc[row_indexer,col_indexer] = value instead\n",
      "\n",
      "See the caveats in the documentation: https://pandas.pydata.org/pandas-docs/stable/user_guide/indexing.html#returning-a-view-versus-a-copy\n",
      "  dfcowley[\"dateTime\"] = pd.to_datetime(dfcowley[\"dateTime\"],\n",
      "C:\\Users\\suzan\\AppData\\Local\\Temp\\ipykernel_20888\\3843005463.py:11: SettingWithCopyWarning: \n",
      "A value is trying to be set on a copy of a slice from a DataFrame.\n",
      "Try using .loc[row_indexer,col_indexer] = value instead\n",
      "\n",
      "See the caveats in the documentation: https://pandas.pydata.org/pandas-docs/stable/user_guide/indexing.html#returning-a-view-versus-a-copy\n",
      "  dfupton[\"dateTime\"] = pd.to_datetime(dfupton[\"dateTime\"],\n"
     ]
    }
   ],
   "source": [
    "# Initial failing to convert to datetime due to first two months \n",
    "# having a different format.  Two choices, mask here or do it with \n",
    "# the individual month files and then reocombine.  The latter seems \n",
    "# easier, so created notebook 3a to convert the date structure.\n",
    "\n",
    "\n",
    "dfyeoford[\"dateTime\"] = pd.to_datetime(dfyeoford[\"dateTime\"], \n",
    "                                       format='%Y-%m-%d %H:%M:%S')\n",
    "dfcowley[\"dateTime\"] = pd.to_datetime(dfcowley[\"dateTime\"], \n",
    "                                      format='%Y-%m-%d %H:%M:%S')\n",
    "dfupton[\"dateTime\"] = pd.to_datetime(dfupton[\"dateTime\"],\n",
    "                                     format='%Y-%m-%d %H:%M:%S')\n",
    "\n",
    "dfupton.info()"
   ]
  },
  {
   "cell_type": "code",
   "execution_count": 18,
   "id": "53bd83de",
   "metadata": {},
   "outputs": [
    {
     "name": "stdout",
     "output_type": "stream",
     "text": [
      "<class 'pandas.core.frame.DataFrame'>\n",
      "Index: 28343 entries, 192 to 88313\n",
      "Data columns (total 4 columns):\n",
      " #   Column            Non-Null Count  Dtype         \n",
      "---  ------            --------------  -----         \n",
      " 0   dateTime          28343 non-null  datetime64[ns]\n",
      " 1   label             28343 non-null  object        \n",
      " 2   stationReference  28343 non-null  int64         \n",
      " 3   value             28343 non-null  float64       \n",
      "dtypes: datetime64[ns](1), float64(1), int64(1), object(1)\n",
      "memory usage: 1.1+ MB\n"
     ]
    }
   ],
   "source": [
    "dfyeoford.info()"
   ]
  },
  {
   "cell_type": "code",
   "execution_count": 19,
   "id": "ecb383eb",
   "metadata": {},
   "outputs": [
    {
     "name": "stdout",
     "output_type": "stream",
     "text": [
      "<class 'pandas.core.frame.DataFrame'>\n",
      "Index: 31046 entries, 0 to 85335\n",
      "Data columns (total 4 columns):\n",
      " #   Column            Non-Null Count  Dtype         \n",
      "---  ------            --------------  -----         \n",
      " 0   dateTime          31046 non-null  datetime64[ns]\n",
      " 1   label             31046 non-null  object        \n",
      " 2   stationReference  31046 non-null  int64         \n",
      " 3   value             31018 non-null  float64       \n",
      "dtypes: datetime64[ns](1), float64(1), int64(1), object(1)\n",
      "memory usage: 1.2+ MB\n"
     ]
    }
   ],
   "source": [
    "dfcowley.info()"
   ]
  },
  {
   "cell_type": "code",
   "execution_count": 20,
   "id": "1cd981e1",
   "metadata": {},
   "outputs": [],
   "source": [
    "all_times_yeoford = all_times.merge(dfyeoford, how = \"left\", \n",
    "                                    left_on = \"all_times\", \n",
    "                                    right_on = \"dateTime\")\n",
    "all_times_upton = all_times.merge(dfupton, how = \"left\", \n",
    "                                  left_on = \"all_times\", \n",
    "                                  right_on = \"dateTime\")\n",
    "all_times_cowley = all_times.merge(dfcowley, how = \"left\", \n",
    "                                   left_on = \"all_times\",\n",
    "                                   right_on = \"dateTime\")"
   ]
  },
  {
   "cell_type": "code",
   "execution_count": 21,
   "id": "b03bb1e9",
   "metadata": {},
   "outputs": [
    {
     "name": "stdout",
     "output_type": "stream",
     "text": [
      "<class 'pandas.core.frame.DataFrame'>\n",
      "RangeIndex: 32256 entries, 0 to 32255\n",
      "Data columns (total 1 columns):\n",
      " #   Column     Non-Null Count  Dtype         \n",
      "---  ------     --------------  -----         \n",
      " 0   all_times  32256 non-null  datetime64[ns]\n",
      "dtypes: datetime64[ns](1)\n",
      "memory usage: 252.1 KB\n"
     ]
    }
   ],
   "source": [
    "all_times.info()"
   ]
  },
  {
   "cell_type": "code",
   "execution_count": 22,
   "id": "7bf3e6b0",
   "metadata": {},
   "outputs": [
    {
     "data": {
      "text/html": [
       "<div>\n",
       "<style scoped>\n",
       "    .dataframe tbody tr th:only-of-type {\n",
       "        vertical-align: middle;\n",
       "    }\n",
       "\n",
       "    .dataframe tbody tr th {\n",
       "        vertical-align: top;\n",
       "    }\n",
       "\n",
       "    .dataframe thead th {\n",
       "        text-align: right;\n",
       "    }\n",
       "</style>\n",
       "<table border=\"1\" class=\"dataframe\">\n",
       "  <thead>\n",
       "    <tr style=\"text-align: right;\">\n",
       "      <th></th>\n",
       "      <th>all_times</th>\n",
       "      <th>dateTime</th>\n",
       "      <th>label</th>\n",
       "      <th>stationReference</th>\n",
       "      <th>value</th>\n",
       "    </tr>\n",
       "  </thead>\n",
       "  <tbody>\n",
       "    <tr>\n",
       "      <th>0</th>\n",
       "      <td>2023-03-31 00:00:00</td>\n",
       "      <td>2023-03-31 00:00:00</td>\n",
       "      <td>Yeoford</td>\n",
       "      <td>45137.0</td>\n",
       "      <td>0.928</td>\n",
       "    </tr>\n",
       "    <tr>\n",
       "      <th>1</th>\n",
       "      <td>2023-03-31 00:15:00</td>\n",
       "      <td>2023-03-31 00:15:00</td>\n",
       "      <td>Yeoford</td>\n",
       "      <td>45137.0</td>\n",
       "      <td>0.965</td>\n",
       "    </tr>\n",
       "  </tbody>\n",
       "</table>\n",
       "</div>"
      ],
      "text/plain": [
       "            all_times            dateTime    label  stationReference  value\n",
       "0 2023-03-31 00:00:00 2023-03-31 00:00:00  Yeoford           45137.0  0.928\n",
       "1 2023-03-31 00:15:00 2023-03-31 00:15:00  Yeoford           45137.0  0.965"
      ]
     },
     "execution_count": 22,
     "metadata": {},
     "output_type": "execute_result"
    }
   ],
   "source": [
    "all_times_yeoford.head(2)"
   ]
  },
  {
   "cell_type": "code",
   "execution_count": 23,
   "id": "43466519",
   "metadata": {},
   "outputs": [
    {
     "data": {
      "text/html": [
       "<div>\n",
       "<style scoped>\n",
       "    .dataframe tbody tr th:only-of-type {\n",
       "        vertical-align: middle;\n",
       "    }\n",
       "\n",
       "    .dataframe tbody tr th {\n",
       "        vertical-align: top;\n",
       "    }\n",
       "\n",
       "    .dataframe thead th {\n",
       "        text-align: right;\n",
       "    }\n",
       "</style>\n",
       "<table border=\"1\" class=\"dataframe\">\n",
       "  <thead>\n",
       "    <tr style=\"text-align: right;\">\n",
       "      <th></th>\n",
       "      <th>all_times</th>\n",
       "      <th>dateTime</th>\n",
       "      <th>label</th>\n",
       "      <th>stationReference</th>\n",
       "      <th>value</th>\n",
       "    </tr>\n",
       "  </thead>\n",
       "  <tbody>\n",
       "    <tr>\n",
       "      <th>0</th>\n",
       "      <td>2023-03-31 00:00:00</td>\n",
       "      <td>2023-03-31 00:00:00</td>\n",
       "      <td>Upton Hellions</td>\n",
       "      <td>45136.0</td>\n",
       "      <td>1.129</td>\n",
       "    </tr>\n",
       "    <tr>\n",
       "      <th>1</th>\n",
       "      <td>2023-03-31 00:15:00</td>\n",
       "      <td>2023-03-31 00:15:00</td>\n",
       "      <td>Upton Hellions</td>\n",
       "      <td>45136.0</td>\n",
       "      <td>1.144</td>\n",
       "    </tr>\n",
       "  </tbody>\n",
       "</table>\n",
       "</div>"
      ],
      "text/plain": [
       "            all_times            dateTime           label  stationReference  \\\n",
       "0 2023-03-31 00:00:00 2023-03-31 00:00:00  Upton Hellions           45136.0   \n",
       "1 2023-03-31 00:15:00 2023-03-31 00:15:00  Upton Hellions           45136.0   \n",
       "\n",
       "   value  \n",
       "0  1.129  \n",
       "1  1.144  "
      ]
     },
     "execution_count": 23,
     "metadata": {},
     "output_type": "execute_result"
    }
   ],
   "source": [
    "all_times_upton.head(2)"
   ]
  },
  {
   "cell_type": "code",
   "execution_count": 24,
   "id": "44d6ea1d",
   "metadata": {},
   "outputs": [
    {
     "data": {
      "text/html": [
       "<div>\n",
       "<style scoped>\n",
       "    .dataframe tbody tr th:only-of-type {\n",
       "        vertical-align: middle;\n",
       "    }\n",
       "\n",
       "    .dataframe tbody tr th {\n",
       "        vertical-align: top;\n",
       "    }\n",
       "\n",
       "    .dataframe thead th {\n",
       "        text-align: right;\n",
       "    }\n",
       "</style>\n",
       "<table border=\"1\" class=\"dataframe\">\n",
       "  <thead>\n",
       "    <tr style=\"text-align: right;\">\n",
       "      <th></th>\n",
       "      <th>all_times</th>\n",
       "      <th>dateTime</th>\n",
       "      <th>label</th>\n",
       "      <th>stationReference</th>\n",
       "      <th>value</th>\n",
       "    </tr>\n",
       "  </thead>\n",
       "  <tbody>\n",
       "    <tr>\n",
       "      <th>0</th>\n",
       "      <td>2023-03-31 00:00:00</td>\n",
       "      <td>2023-03-31 00:00:00</td>\n",
       "      <td>Cowley Bridge</td>\n",
       "      <td>45117.0</td>\n",
       "      <td>0.984</td>\n",
       "    </tr>\n",
       "    <tr>\n",
       "      <th>1</th>\n",
       "      <td>2023-03-31 00:15:00</td>\n",
       "      <td>2023-03-31 00:15:00</td>\n",
       "      <td>Cowley Bridge</td>\n",
       "      <td>45117.0</td>\n",
       "      <td>1.012</td>\n",
       "    </tr>\n",
       "  </tbody>\n",
       "</table>\n",
       "</div>"
      ],
      "text/plain": [
       "            all_times            dateTime          label  stationReference  \\\n",
       "0 2023-03-31 00:00:00 2023-03-31 00:00:00  Cowley Bridge           45117.0   \n",
       "1 2023-03-31 00:15:00 2023-03-31 00:15:00  Cowley Bridge           45117.0   \n",
       "\n",
       "   value  \n",
       "0  0.984  \n",
       "1  1.012  "
      ]
     },
     "execution_count": 24,
     "metadata": {},
     "output_type": "execute_result"
    }
   ],
   "source": [
    "all_times_cowley.head(2)"
   ]
  },
  {
   "cell_type": "code",
   "execution_count": 25,
   "id": "055baeb9",
   "metadata": {},
   "outputs": [
    {
     "name": "stdout",
     "output_type": "stream",
     "text": [
      "<class 'pandas.core.frame.DataFrame'>\n",
      "RangeIndex: 32256 entries, 0 to 32255\n",
      "Data columns (total 5 columns):\n",
      " #   Column            Non-Null Count  Dtype         \n",
      "---  ------            --------------  -----         \n",
      " 0   all_times         32256 non-null  datetime64[ns]\n",
      " 1   dateTime          31046 non-null  datetime64[ns]\n",
      " 2   label             31046 non-null  object        \n",
      " 3   stationReference  31046 non-null  float64       \n",
      " 4   value             31018 non-null  float64       \n",
      "dtypes: datetime64[ns](2), float64(2), object(1)\n",
      "memory usage: 1.2+ MB\n"
     ]
    }
   ],
   "source": [
    "all_times_cowley.info()"
   ]
  },
  {
   "cell_type": "code",
   "execution_count": 26,
   "id": "0f882f39",
   "metadata": {},
   "outputs": [
    {
     "name": "stdout",
     "output_type": "stream",
     "text": [
      "<class 'pandas.core.frame.DataFrame'>\n",
      "RangeIndex: 32256 entries, 0 to 32255\n",
      "Data columns (total 5 columns):\n",
      " #   Column            Non-Null Count  Dtype         \n",
      "---  ------            --------------  -----         \n",
      " 0   all_times         32256 non-null  datetime64[ns]\n",
      " 1   dateTime          28343 non-null  datetime64[ns]\n",
      " 2   label             28343 non-null  object        \n",
      " 3   stationReference  28343 non-null  float64       \n",
      " 4   value             28343 non-null  float64       \n",
      "dtypes: datetime64[ns](2), float64(2), object(1)\n",
      "memory usage: 1.2+ MB\n"
     ]
    }
   ],
   "source": [
    "all_times_yeoford.info()"
   ]
  },
  {
   "cell_type": "code",
   "execution_count": 27,
   "id": "fc0703e5",
   "metadata": {},
   "outputs": [
    {
     "name": "stdout",
     "output_type": "stream",
     "text": [
      "<class 'pandas.core.frame.DataFrame'>\n",
      "RangeIndex: 32256 entries, 0 to 32255\n",
      "Data columns (total 5 columns):\n",
      " #   Column            Non-Null Count  Dtype         \n",
      "---  ------            --------------  -----         \n",
      " 0   all_times         32256 non-null  datetime64[ns]\n",
      " 1   dateTime          28925 non-null  datetime64[ns]\n",
      " 2   label             28925 non-null  object        \n",
      " 3   stationReference  28925 non-null  float64       \n",
      " 4   value             28925 non-null  float64       \n",
      "dtypes: datetime64[ns](2), float64(2), object(1)\n",
      "memory usage: 1.2+ MB\n"
     ]
    }
   ],
   "source": [
    "all_times_upton.info()"
   ]
  },
  {
   "cell_type": "code",
   "execution_count": 28,
   "id": "fe98e47c",
   "metadata": {},
   "outputs": [
    {
     "data": {
      "text/html": [
       "<div>\n",
       "<style scoped>\n",
       "    .dataframe tbody tr th:only-of-type {\n",
       "        vertical-align: middle;\n",
       "    }\n",
       "\n",
       "    .dataframe tbody tr th {\n",
       "        vertical-align: top;\n",
       "    }\n",
       "\n",
       "    .dataframe thead th {\n",
       "        text-align: right;\n",
       "    }\n",
       "</style>\n",
       "<table border=\"1\" class=\"dataframe\">\n",
       "  <thead>\n",
       "    <tr style=\"text-align: right;\">\n",
       "      <th></th>\n",
       "      <th>all_times</th>\n",
       "      <th>dateTime_x</th>\n",
       "      <th>label_x</th>\n",
       "      <th>stationReference_x</th>\n",
       "      <th>value_x</th>\n",
       "      <th>dateTime_y</th>\n",
       "      <th>label_y</th>\n",
       "      <th>stationReference_y</th>\n",
       "      <th>value_y</th>\n",
       "    </tr>\n",
       "  </thead>\n",
       "  <tbody>\n",
       "    <tr>\n",
       "      <th>0</th>\n",
       "      <td>2023-03-31 00:00:00</td>\n",
       "      <td>2023-03-31 00:00:00</td>\n",
       "      <td>Yeoford</td>\n",
       "      <td>45137.0</td>\n",
       "      <td>0.928</td>\n",
       "      <td>2023-03-31 00:00:00</td>\n",
       "      <td>Upton Hellions</td>\n",
       "      <td>45136.0</td>\n",
       "      <td>1.129</td>\n",
       "    </tr>\n",
       "    <tr>\n",
       "      <th>1</th>\n",
       "      <td>2023-03-31 00:15:00</td>\n",
       "      <td>2023-03-31 00:15:00</td>\n",
       "      <td>Yeoford</td>\n",
       "      <td>45137.0</td>\n",
       "      <td>0.965</td>\n",
       "      <td>2023-03-31 00:15:00</td>\n",
       "      <td>Upton Hellions</td>\n",
       "      <td>45136.0</td>\n",
       "      <td>1.144</td>\n",
       "    </tr>\n",
       "    <tr>\n",
       "      <th>2</th>\n",
       "      <td>2023-03-31 00:30:00</td>\n",
       "      <td>2023-03-31 00:30:00</td>\n",
       "      <td>Yeoford</td>\n",
       "      <td>45137.0</td>\n",
       "      <td>1.002</td>\n",
       "      <td>2023-03-31 00:30:00</td>\n",
       "      <td>Upton Hellions</td>\n",
       "      <td>45136.0</td>\n",
       "      <td>1.170</td>\n",
       "    </tr>\n",
       "    <tr>\n",
       "      <th>3</th>\n",
       "      <td>2023-03-31 00:45:00</td>\n",
       "      <td>2023-03-31 00:45:00</td>\n",
       "      <td>Yeoford</td>\n",
       "      <td>45137.0</td>\n",
       "      <td>1.052</td>\n",
       "      <td>2023-03-31 00:45:00</td>\n",
       "      <td>Upton Hellions</td>\n",
       "      <td>45136.0</td>\n",
       "      <td>1.199</td>\n",
       "    </tr>\n",
       "    <tr>\n",
       "      <th>4</th>\n",
       "      <td>2023-03-31 01:00:00</td>\n",
       "      <td>2023-03-31 01:00:00</td>\n",
       "      <td>Yeoford</td>\n",
       "      <td>45137.0</td>\n",
       "      <td>1.080</td>\n",
       "      <td>2023-03-31 01:00:00</td>\n",
       "      <td>Upton Hellions</td>\n",
       "      <td>45136.0</td>\n",
       "      <td>1.230</td>\n",
       "    </tr>\n",
       "  </tbody>\n",
       "</table>\n",
       "</div>"
      ],
      "text/plain": [
       "            all_times          dateTime_x  label_x  stationReference_x  \\\n",
       "0 2023-03-31 00:00:00 2023-03-31 00:00:00  Yeoford             45137.0   \n",
       "1 2023-03-31 00:15:00 2023-03-31 00:15:00  Yeoford             45137.0   \n",
       "2 2023-03-31 00:30:00 2023-03-31 00:30:00  Yeoford             45137.0   \n",
       "3 2023-03-31 00:45:00 2023-03-31 00:45:00  Yeoford             45137.0   \n",
       "4 2023-03-31 01:00:00 2023-03-31 01:00:00  Yeoford             45137.0   \n",
       "\n",
       "   value_x          dateTime_y         label_y  stationReference_y  value_y  \n",
       "0    0.928 2023-03-31 00:00:00  Upton Hellions             45136.0    1.129  \n",
       "1    0.965 2023-03-31 00:15:00  Upton Hellions             45136.0    1.144  \n",
       "2    1.002 2023-03-31 00:30:00  Upton Hellions             45136.0    1.170  \n",
       "3    1.052 2023-03-31 00:45:00  Upton Hellions             45136.0    1.199  \n",
       "4    1.080 2023-03-31 01:00:00  Upton Hellions             45136.0    1.230  "
      ]
     },
     "execution_count": 28,
     "metadata": {},
     "output_type": "execute_result"
    }
   ],
   "source": [
    "all_time_all = all_times_yeoford.merge(all_times_upton, \n",
    "                                       how = \"left\", \n",
    "                                       left_on = \"all_times\", \n",
    "                                       right_on = \"all_times\")\n",
    "all_time_all.head()"
   ]
  },
  {
   "cell_type": "code",
   "execution_count": 29,
   "id": "628066bc",
   "metadata": {},
   "outputs": [
    {
     "name": "stdout",
     "output_type": "stream",
     "text": [
      "<class 'pandas.core.frame.DataFrame'>\n",
      "RangeIndex: 32256 entries, 0 to 32255\n",
      "Data columns (total 9 columns):\n",
      " #   Column              Non-Null Count  Dtype         \n",
      "---  ------              --------------  -----         \n",
      " 0   all_times           32256 non-null  datetime64[ns]\n",
      " 1   dateTime_x          28343 non-null  datetime64[ns]\n",
      " 2   label_x             28343 non-null  object        \n",
      " 3   stationReference_x  28343 non-null  float64       \n",
      " 4   value_x             28343 non-null  float64       \n",
      " 5   dateTime_y          28925 non-null  datetime64[ns]\n",
      " 6   label_y             28925 non-null  object        \n",
      " 7   stationReference_y  28925 non-null  float64       \n",
      " 8   value_y             28925 non-null  float64       \n",
      "dtypes: datetime64[ns](3), float64(4), object(2)\n",
      "memory usage: 2.2+ MB\n"
     ]
    }
   ],
   "source": [
    "# need to tidy up my columns!\n",
    "\n",
    "all_time_all.info()"
   ]
  },
  {
   "cell_type": "code",
   "execution_count": 30,
   "id": "c3c13aaa",
   "metadata": {},
   "outputs": [
    {
     "data": {
      "text/html": [
       "<div>\n",
       "<style scoped>\n",
       "    .dataframe tbody tr th:only-of-type {\n",
       "        vertical-align: middle;\n",
       "    }\n",
       "\n",
       "    .dataframe tbody tr th {\n",
       "        vertical-align: top;\n",
       "    }\n",
       "\n",
       "    .dataframe thead th {\n",
       "        text-align: right;\n",
       "    }\n",
       "</style>\n",
       "<table border=\"1\" class=\"dataframe\">\n",
       "  <thead>\n",
       "    <tr style=\"text-align: right;\">\n",
       "      <th></th>\n",
       "      <th>all_times</th>\n",
       "      <th>value_x</th>\n",
       "      <th>value_y</th>\n",
       "    </tr>\n",
       "  </thead>\n",
       "  <tbody>\n",
       "    <tr>\n",
       "      <th>0</th>\n",
       "      <td>2023-03-31 00:00:00</td>\n",
       "      <td>0.928</td>\n",
       "      <td>1.129</td>\n",
       "    </tr>\n",
       "    <tr>\n",
       "      <th>1</th>\n",
       "      <td>2023-03-31 00:15:00</td>\n",
       "      <td>0.965</td>\n",
       "      <td>1.144</td>\n",
       "    </tr>\n",
       "    <tr>\n",
       "      <th>2</th>\n",
       "      <td>2023-03-31 00:30:00</td>\n",
       "      <td>1.002</td>\n",
       "      <td>1.170</td>\n",
       "    </tr>\n",
       "    <tr>\n",
       "      <th>3</th>\n",
       "      <td>2023-03-31 00:45:00</td>\n",
       "      <td>1.052</td>\n",
       "      <td>1.199</td>\n",
       "    </tr>\n",
       "    <tr>\n",
       "      <th>4</th>\n",
       "      <td>2023-03-31 01:00:00</td>\n",
       "      <td>1.080</td>\n",
       "      <td>1.230</td>\n",
       "    </tr>\n",
       "  </tbody>\n",
       "</table>\n",
       "</div>"
      ],
      "text/plain": [
       "            all_times  value_x  value_y\n",
       "0 2023-03-31 00:00:00    0.928    1.129\n",
       "1 2023-03-31 00:15:00    0.965    1.144\n",
       "2 2023-03-31 00:30:00    1.002    1.170\n",
       "3 2023-03-31 00:45:00    1.052    1.199\n",
       "4 2023-03-31 01:00:00    1.080    1.230"
      ]
     },
     "execution_count": 30,
     "metadata": {},
     "output_type": "execute_result"
    }
   ],
   "source": [
    "# drop excess columns\n",
    "\n",
    "all_time_all_short = all_time_all[[\"all_times\", \"value_x\", \n",
    "                                   \"value_y\"]].copy()\n",
    "all_time_all_short.head()"
   ]
  },
  {
   "cell_type": "code",
   "execution_count": 31,
   "id": "01357cf5",
   "metadata": {},
   "outputs": [
    {
     "data": {
      "text/html": [
       "<div>\n",
       "<style scoped>\n",
       "    .dataframe tbody tr th:only-of-type {\n",
       "        vertical-align: middle;\n",
       "    }\n",
       "\n",
       "    .dataframe tbody tr th {\n",
       "        vertical-align: top;\n",
       "    }\n",
       "\n",
       "    .dataframe thead th {\n",
       "        text-align: right;\n",
       "    }\n",
       "</style>\n",
       "<table border=\"1\" class=\"dataframe\">\n",
       "  <thead>\n",
       "    <tr style=\"text-align: right;\">\n",
       "      <th></th>\n",
       "      <th>all_times</th>\n",
       "      <th>Yeoford_value</th>\n",
       "      <th>Upton_value</th>\n",
       "    </tr>\n",
       "  </thead>\n",
       "  <tbody>\n",
       "    <tr>\n",
       "      <th>0</th>\n",
       "      <td>2023-03-31 00:00:00</td>\n",
       "      <td>0.928</td>\n",
       "      <td>1.129</td>\n",
       "    </tr>\n",
       "    <tr>\n",
       "      <th>1</th>\n",
       "      <td>2023-03-31 00:15:00</td>\n",
       "      <td>0.965</td>\n",
       "      <td>1.144</td>\n",
       "    </tr>\n",
       "  </tbody>\n",
       "</table>\n",
       "</div>"
      ],
      "text/plain": [
       "            all_times  Yeoford_value  Upton_value\n",
       "0 2023-03-31 00:00:00          0.928        1.129\n",
       "1 2023-03-31 00:15:00          0.965        1.144"
      ]
     },
     "execution_count": 31,
     "metadata": {},
     "output_type": "execute_result"
    }
   ],
   "source": [
    "# Much neater\n",
    "# rename the columns I have left\n",
    "\n",
    "all_time_all_short.rename(columns = {\"value_x\":\"Yeoford_value\"}, \n",
    "                          inplace = True)\n",
    "all_time_all_short.rename(columns = {\"value_y\":\"Upton_value\"}, \n",
    "                          inplace = True)\n",
    "all_time_all_short.head(2)"
   ]
  },
  {
   "cell_type": "code",
   "execution_count": 32,
   "id": "a54d264a",
   "metadata": {},
   "outputs": [
    {
     "data": {
      "text/html": [
       "<div>\n",
       "<style scoped>\n",
       "    .dataframe tbody tr th:only-of-type {\n",
       "        vertical-align: middle;\n",
       "    }\n",
       "\n",
       "    .dataframe tbody tr th {\n",
       "        vertical-align: top;\n",
       "    }\n",
       "\n",
       "    .dataframe thead th {\n",
       "        text-align: right;\n",
       "    }\n",
       "</style>\n",
       "<table border=\"1\" class=\"dataframe\">\n",
       "  <thead>\n",
       "    <tr style=\"text-align: right;\">\n",
       "      <th></th>\n",
       "      <th>all_times</th>\n",
       "      <th>dateTime</th>\n",
       "      <th>label</th>\n",
       "      <th>stationReference</th>\n",
       "      <th>value</th>\n",
       "    </tr>\n",
       "  </thead>\n",
       "  <tbody>\n",
       "    <tr>\n",
       "      <th>0</th>\n",
       "      <td>2023-03-31 00:00:00</td>\n",
       "      <td>2023-03-31 00:00:00</td>\n",
       "      <td>Cowley Bridge</td>\n",
       "      <td>45117.0</td>\n",
       "      <td>0.984</td>\n",
       "    </tr>\n",
       "    <tr>\n",
       "      <th>1</th>\n",
       "      <td>2023-03-31 00:15:00</td>\n",
       "      <td>2023-03-31 00:15:00</td>\n",
       "      <td>Cowley Bridge</td>\n",
       "      <td>45117.0</td>\n",
       "      <td>1.012</td>\n",
       "    </tr>\n",
       "  </tbody>\n",
       "</table>\n",
       "</div>"
      ],
      "text/plain": [
       "            all_times            dateTime          label  stationReference  \\\n",
       "0 2023-03-31 00:00:00 2023-03-31 00:00:00  Cowley Bridge           45117.0   \n",
       "1 2023-03-31 00:15:00 2023-03-31 00:15:00  Cowley Bridge           45117.0   \n",
       "\n",
       "   value  \n",
       "0  0.984  \n",
       "1  1.012  "
      ]
     },
     "execution_count": 32,
     "metadata": {},
     "output_type": "execute_result"
    }
   ],
   "source": [
    "all_times_cowley.head(2)"
   ]
  },
  {
   "cell_type": "code",
   "execution_count": 33,
   "id": "a4bafb6c",
   "metadata": {},
   "outputs": [],
   "source": [
    "all_times_cowley.rename(columns = {\"value\":\"Cowley_value\"}, \n",
    "                        inplace = True)"
   ]
  },
  {
   "cell_type": "code",
   "execution_count": 34,
   "id": "5578f306",
   "metadata": {},
   "outputs": [],
   "source": [
    "all_times_cowley.drop(\"stationReference\", axis = \"columns\", \n",
    "                      inplace = True)"
   ]
  },
  {
   "cell_type": "code",
   "execution_count": 35,
   "id": "c04a4c78",
   "metadata": {},
   "outputs": [],
   "source": [
    "all_times_cowley.drop(\"dateTime\", axis = \"columns\", inplace = True)"
   ]
  },
  {
   "cell_type": "code",
   "execution_count": 36,
   "id": "0c908921",
   "metadata": {},
   "outputs": [],
   "source": [
    "all_times_cowley.drop(\"label\", axis = \"columns\", inplace = True)"
   ]
  },
  {
   "cell_type": "code",
   "execution_count": 37,
   "id": "b4c775fe",
   "metadata": {},
   "outputs": [
    {
     "name": "stdout",
     "output_type": "stream",
     "text": [
      "<class 'pandas.core.frame.DataFrame'>\n",
      "RangeIndex: 32256 entries, 0 to 32255\n",
      "Data columns (total 2 columns):\n",
      " #   Column        Non-Null Count  Dtype         \n",
      "---  ------        --------------  -----         \n",
      " 0   all_times     32256 non-null  datetime64[ns]\n",
      " 1   Cowley_value  31018 non-null  float64       \n",
      "dtypes: datetime64[ns](1), float64(1)\n",
      "memory usage: 504.1 KB\n"
     ]
    }
   ],
   "source": [
    "all_times_cowley.info()  \n",
    "# this is slimmed down to the mimimum info needed to add to the df"
   ]
  },
  {
   "cell_type": "code",
   "execution_count": 38,
   "id": "fb4c1218",
   "metadata": {},
   "outputs": [
    {
     "name": "stdout",
     "output_type": "stream",
     "text": [
      "<class 'pandas.core.frame.DataFrame'>\n",
      "RangeIndex: 32256 entries, 0 to 32255\n",
      "Data columns (total 3 columns):\n",
      " #   Column         Non-Null Count  Dtype         \n",
      "---  ------         --------------  -----         \n",
      " 0   all_times      32256 non-null  datetime64[ns]\n",
      " 1   Yeoford_value  28343 non-null  float64       \n",
      " 2   Upton_value    28925 non-null  float64       \n",
      "dtypes: datetime64[ns](1), float64(2)\n",
      "memory usage: 756.1 KB\n"
     ]
    }
   ],
   "source": [
    "all_time_all_short.info()"
   ]
  },
  {
   "cell_type": "code",
   "execution_count": 39,
   "id": "956543d2",
   "metadata": {},
   "outputs": [
    {
     "data": {
      "text/html": [
       "<div>\n",
       "<style scoped>\n",
       "    .dataframe tbody tr th:only-of-type {\n",
       "        vertical-align: middle;\n",
       "    }\n",
       "\n",
       "    .dataframe tbody tr th {\n",
       "        vertical-align: top;\n",
       "    }\n",
       "\n",
       "    .dataframe thead th {\n",
       "        text-align: right;\n",
       "    }\n",
       "</style>\n",
       "<table border=\"1\" class=\"dataframe\">\n",
       "  <thead>\n",
       "    <tr style=\"text-align: right;\">\n",
       "      <th></th>\n",
       "      <th>all_times</th>\n",
       "      <th>Yeoford_value</th>\n",
       "      <th>Upton_value</th>\n",
       "      <th>Cowley_value</th>\n",
       "    </tr>\n",
       "  </thead>\n",
       "  <tbody>\n",
       "    <tr>\n",
       "      <th>0</th>\n",
       "      <td>2023-03-31 00:00:00</td>\n",
       "      <td>0.928</td>\n",
       "      <td>1.129</td>\n",
       "      <td>0.984</td>\n",
       "    </tr>\n",
       "    <tr>\n",
       "      <th>1</th>\n",
       "      <td>2023-03-31 00:15:00</td>\n",
       "      <td>0.965</td>\n",
       "      <td>1.144</td>\n",
       "      <td>1.012</td>\n",
       "    </tr>\n",
       "  </tbody>\n",
       "</table>\n",
       "</div>"
      ],
      "text/plain": [
       "            all_times  Yeoford_value  Upton_value  Cowley_value\n",
       "0 2023-03-31 00:00:00          0.928        1.129         0.984\n",
       "1 2023-03-31 00:15:00          0.965        1.144         1.012"
      ]
     },
     "execution_count": 39,
     "metadata": {},
     "output_type": "execute_result"
    }
   ],
   "source": [
    "all_time_all_short = all_time_all_short.merge(all_times_cowley, \n",
    "                                              how = \"left\", \n",
    "                                              left_on = \"all_times\",\n",
    "                                              right_on = \"all_times\"\n",
    "                                             )\n",
    "all_time_all_short.head(2)"
   ]
  },
  {
   "cell_type": "code",
   "execution_count": 40,
   "id": "2834b265",
   "metadata": {},
   "outputs": [
    {
     "name": "stdout",
     "output_type": "stream",
     "text": [
      "<class 'pandas.core.frame.DataFrame'>\n",
      "RangeIndex: 32256 entries, 0 to 32255\n",
      "Data columns (total 4 columns):\n",
      " #   Column         Non-Null Count  Dtype         \n",
      "---  ------         --------------  -----         \n",
      " 0   all_times      32256 non-null  datetime64[ns]\n",
      " 1   Yeoford_value  28343 non-null  float64       \n",
      " 2   Upton_value    28925 non-null  float64       \n",
      " 3   Cowley_value   31018 non-null  float64       \n",
      "dtypes: datetime64[ns](1), float64(3)\n",
      "memory usage: 1008.1 KB\n"
     ]
    }
   ],
   "source": [
    "all_time_all_short.info()"
   ]
  },
  {
   "cell_type": "code",
   "execution_count": 41,
   "id": "3ebf9506",
   "metadata": {},
   "outputs": [
    {
     "name": "stdout",
     "output_type": "stream",
     "text": [
      "<class 'pandas.core.frame.DataFrame'>\n",
      "Index: 26595 entries, 0 to 32224\n",
      "Data columns (total 4 columns):\n",
      " #   Column         Non-Null Count  Dtype         \n",
      "---  ------         --------------  -----         \n",
      " 0   all_times      26595 non-null  datetime64[ns]\n",
      " 1   Yeoford_value  26595 non-null  float64       \n",
      " 2   Upton_value    26595 non-null  float64       \n",
      " 3   Cowley_value   26595 non-null  float64       \n",
      "dtypes: datetime64[ns](1), float64(3)\n",
      "memory usage: 1.0 MB\n"
     ]
    }
   ],
   "source": [
    "# There are a lot of NaNs in there.  Unfortunately if I'm going to\n",
    "# be playing with modelling then models needs data without NaNs to \n",
    "# learn.  Therefore the first thing I need to do is drop NaNs.\n",
    "\n",
    "no_nan = all_time_all_short.dropna()\n",
    "no_nan.info()"
   ]
  },
  {
   "cell_type": "code",
   "execution_count": 42,
   "id": "1da48a64",
   "metadata": {},
   "outputs": [],
   "source": [
    "# need to add yeoford and upton as the combined they should relate \n",
    "# to Cowley"
   ]
  },
  {
   "cell_type": "code",
   "execution_count": 43,
   "id": "d6cc95a3",
   "metadata": {},
   "outputs": [
    {
     "name": "stderr",
     "output_type": "stream",
     "text": [
      "C:\\Users\\suzan\\AppData\\Local\\Temp\\ipykernel_20888\\3396071727.py:1: SettingWithCopyWarning: \n",
      "A value is trying to be set on a copy of a slice from a DataFrame.\n",
      "Try using .loc[row_indexer,col_indexer] = value instead\n",
      "\n",
      "See the caveats in the documentation: https://pandas.pydata.org/pandas-docs/stable/user_guide/indexing.html#returning-a-view-versus-a-copy\n",
      "  no_nan[\"upstream\"] = no_nan[\"Yeoford_value\"]+no_nan[\"Upton_value\"]\n"
     ]
    },
    {
     "data": {
      "text/html": [
       "<div>\n",
       "<style scoped>\n",
       "    .dataframe tbody tr th:only-of-type {\n",
       "        vertical-align: middle;\n",
       "    }\n",
       "\n",
       "    .dataframe tbody tr th {\n",
       "        vertical-align: top;\n",
       "    }\n",
       "\n",
       "    .dataframe thead th {\n",
       "        text-align: right;\n",
       "    }\n",
       "</style>\n",
       "<table border=\"1\" class=\"dataframe\">\n",
       "  <thead>\n",
       "    <tr style=\"text-align: right;\">\n",
       "      <th></th>\n",
       "      <th>all_times</th>\n",
       "      <th>Yeoford_value</th>\n",
       "      <th>Upton_value</th>\n",
       "      <th>Cowley_value</th>\n",
       "      <th>upstream</th>\n",
       "    </tr>\n",
       "  </thead>\n",
       "  <tbody>\n",
       "    <tr>\n",
       "      <th>0</th>\n",
       "      <td>2023-03-31 00:00:00</td>\n",
       "      <td>0.928</td>\n",
       "      <td>1.129</td>\n",
       "      <td>0.984</td>\n",
       "      <td>2.057</td>\n",
       "    </tr>\n",
       "    <tr>\n",
       "      <th>1</th>\n",
       "      <td>2023-03-31 00:15:00</td>\n",
       "      <td>0.965</td>\n",
       "      <td>1.144</td>\n",
       "      <td>1.012</td>\n",
       "      <td>2.109</td>\n",
       "    </tr>\n",
       "    <tr>\n",
       "      <th>2</th>\n",
       "      <td>2023-03-31 00:30:00</td>\n",
       "      <td>1.002</td>\n",
       "      <td>1.170</td>\n",
       "      <td>1.040</td>\n",
       "      <td>2.172</td>\n",
       "    </tr>\n",
       "    <tr>\n",
       "      <th>3</th>\n",
       "      <td>2023-03-31 00:45:00</td>\n",
       "      <td>1.052</td>\n",
       "      <td>1.199</td>\n",
       "      <td>1.072</td>\n",
       "      <td>2.251</td>\n",
       "    </tr>\n",
       "    <tr>\n",
       "      <th>4</th>\n",
       "      <td>2023-03-31 01:00:00</td>\n",
       "      <td>1.080</td>\n",
       "      <td>1.230</td>\n",
       "      <td>1.104</td>\n",
       "      <td>2.310</td>\n",
       "    </tr>\n",
       "  </tbody>\n",
       "</table>\n",
       "</div>"
      ],
      "text/plain": [
       "            all_times  Yeoford_value  Upton_value  Cowley_value  upstream\n",
       "0 2023-03-31 00:00:00          0.928        1.129         0.984     2.057\n",
       "1 2023-03-31 00:15:00          0.965        1.144         1.012     2.109\n",
       "2 2023-03-31 00:30:00          1.002        1.170         1.040     2.172\n",
       "3 2023-03-31 00:45:00          1.052        1.199         1.072     2.251\n",
       "4 2023-03-31 01:00:00          1.080        1.230         1.104     2.310"
      ]
     },
     "execution_count": 43,
     "metadata": {},
     "output_type": "execute_result"
    }
   ],
   "source": [
    "no_nan[\"upstream\"] = no_nan[\"Yeoford_value\"]+no_nan[\"Upton_value\"]\n",
    "no_nan.head()"
   ]
  },
  {
   "cell_type": "code",
   "execution_count": 44,
   "id": "dcf50fe2",
   "metadata": {},
   "outputs": [
    {
     "data": {
      "image/png": "[encoded data removed]",
      "text/plain": [
       "<Figure size 640x480 with 2 Axes>"
      ]
     },
     "metadata": {},
     "output_type": "display_data"
    }
   ],
   "source": [
    "sns.heatmap(no_nan.corr());"
   ]
  },
  {
   "cell_type": "code",
   "execution_count": 45,
   "id": "68856413",
   "metadata": {},
   "outputs": [
    {
     "data": {
      "text/plain": [
       "all_times        0.356735\n",
       "Yeoford_value    0.921517\n",
       "Upton_value      0.950560\n",
       "Cowley_value     1.000000\n",
       "upstream         0.959674\n",
       "Name: Cowley_value, dtype: float64"
      ]
     },
     "execution_count": 45,
     "metadata": {},
     "output_type": "execute_result"
    }
   ],
   "source": [
    "no_nan.corr()[\"Cowley_value\"]"
   ]
  },
  {
   "cell_type": "code",
   "execution_count": 46,
   "id": "f9fefd02",
   "metadata": {},
   "outputs": [],
   "source": [
    "# Looking at the river levels upstream as the inputs and the river \n",
    "# level downstream as the calculated value\n",
    "\n",
    "# inputs are Yeoford_value and Upton_value\n",
    "x_inputs = no_nan.iloc[:,1:3]  \n",
    "# output is Cowley_value\n",
    "y_target = no_nan.iloc[:,3]             "
   ]
  },
  {
   "cell_type": "code",
   "execution_count": 47,
   "id": "dcc92a84",
   "metadata": {},
   "outputs": [
    {
     "data": {
      "text/html": [
       "<div>\n",
       "<style scoped>\n",
       "    .dataframe tbody tr th:only-of-type {\n",
       "        vertical-align: middle;\n",
       "    }\n",
       "\n",
       "    .dataframe tbody tr th {\n",
       "        vertical-align: top;\n",
       "    }\n",
       "\n",
       "    .dataframe thead th {\n",
       "        text-align: right;\n",
       "    }\n",
       "</style>\n",
       "<table border=\"1\" class=\"dataframe\">\n",
       "  <thead>\n",
       "    <tr style=\"text-align: right;\">\n",
       "      <th></th>\n",
       "      <th>Yeoford_value</th>\n",
       "      <th>Upton_value</th>\n",
       "    </tr>\n",
       "  </thead>\n",
       "  <tbody>\n",
       "    <tr>\n",
       "      <th>0</th>\n",
       "      <td>0.928</td>\n",
       "      <td>1.129</td>\n",
       "    </tr>\n",
       "    <tr>\n",
       "      <th>1</th>\n",
       "      <td>0.965</td>\n",
       "      <td>1.144</td>\n",
       "    </tr>\n",
       "    <tr>\n",
       "      <th>2</th>\n",
       "      <td>1.002</td>\n",
       "      <td>1.170</td>\n",
       "    </tr>\n",
       "    <tr>\n",
       "      <th>3</th>\n",
       "      <td>1.052</td>\n",
       "      <td>1.199</td>\n",
       "    </tr>\n",
       "    <tr>\n",
       "      <th>4</th>\n",
       "      <td>1.080</td>\n",
       "      <td>1.230</td>\n",
       "    </tr>\n",
       "  </tbody>\n",
       "</table>\n",
       "</div>"
      ],
      "text/plain": [
       "   Yeoford_value  Upton_value\n",
       "0          0.928        1.129\n",
       "1          0.965        1.144\n",
       "2          1.002        1.170\n",
       "3          1.052        1.199\n",
       "4          1.080        1.230"
      ]
     },
     "execution_count": 47,
     "metadata": {},
     "output_type": "execute_result"
    }
   ],
   "source": [
    "x_inputs.head()   # so this is the correct 2 columns"
   ]
  },
  {
   "cell_type": "code",
   "execution_count": 48,
   "id": "14e6fadd",
   "metadata": {},
   "outputs": [
    {
     "data": {
      "text/plain": [
       "0    0.984\n",
       "1    1.012\n",
       "2    1.040\n",
       "3    1.072\n",
       "4    1.104\n",
       "Name: Cowley_value, dtype: float64"
      ]
     },
     "execution_count": 48,
     "metadata": {},
     "output_type": "execute_result"
    }
   ],
   "source": [
    "y_target.head()            "
   ]
  },
  {
   "cell_type": "code",
   "execution_count": 49,
   "id": "9964faf4",
   "metadata": {},
   "outputs": [],
   "source": [
    "#now we will split the dataset into two, some part for training, \n",
    "# some part of testing at 80:20 ratio\n",
    "\n",
    "x_train_data,x_test_data,y_train_data,y_test_data = train_test_split(x_inputs,y_target,test_size=0.20)  \n"
   ]
  },
  {
   "cell_type": "code",
   "execution_count": 50,
   "id": "acde54ae",
   "metadata": {},
   "outputs": [
    {
     "data": {
      "text/html": [
       "<div>\n",
       "<style scoped>\n",
       "    .dataframe tbody tr th:only-of-type {\n",
       "        vertical-align: middle;\n",
       "    }\n",
       "\n",
       "    .dataframe tbody tr th {\n",
       "        vertical-align: top;\n",
       "    }\n",
       "\n",
       "    .dataframe thead th {\n",
       "        text-align: right;\n",
       "    }\n",
       "</style>\n",
       "<table border=\"1\" class=\"dataframe\">\n",
       "  <thead>\n",
       "    <tr style=\"text-align: right;\">\n",
       "      <th></th>\n",
       "      <th>Yeoford_value</th>\n",
       "      <th>Upton_value</th>\n",
       "    </tr>\n",
       "  </thead>\n",
       "  <tbody>\n",
       "    <tr>\n",
       "      <th>1935</th>\n",
       "      <td>0.335</td>\n",
       "      <td>0.464</td>\n",
       "    </tr>\n",
       "    <tr>\n",
       "      <th>21793</th>\n",
       "      <td>0.595</td>\n",
       "      <td>0.903</td>\n",
       "    </tr>\n",
       "    <tr>\n",
       "      <th>7033</th>\n",
       "      <td>0.226</td>\n",
       "      <td>0.260</td>\n",
       "    </tr>\n",
       "    <tr>\n",
       "      <th>1143</th>\n",
       "      <td>0.482</td>\n",
       "      <td>0.531</td>\n",
       "    </tr>\n",
       "    <tr>\n",
       "      <th>4949</th>\n",
       "      <td>0.298</td>\n",
       "      <td>0.354</td>\n",
       "    </tr>\n",
       "    <tr>\n",
       "      <th>...</th>\n",
       "      <td>...</td>\n",
       "      <td>...</td>\n",
       "    </tr>\n",
       "    <tr>\n",
       "      <th>30580</th>\n",
       "      <td>0.621</td>\n",
       "      <td>0.875</td>\n",
       "    </tr>\n",
       "    <tr>\n",
       "      <th>28763</th>\n",
       "      <td>0.466</td>\n",
       "      <td>0.480</td>\n",
       "    </tr>\n",
       "    <tr>\n",
       "      <th>14263</th>\n",
       "      <td>0.231</td>\n",
       "      <td>0.284</td>\n",
       "    </tr>\n",
       "    <tr>\n",
       "      <th>13371</th>\n",
       "      <td>0.215</td>\n",
       "      <td>0.241</td>\n",
       "    </tr>\n",
       "    <tr>\n",
       "      <th>1645</th>\n",
       "      <td>0.365</td>\n",
       "      <td>0.561</td>\n",
       "    </tr>\n",
       "  </tbody>\n",
       "</table>\n",
       "<p>21276 rows × 2 columns</p>\n",
       "</div>"
      ],
      "text/plain": [
       "       Yeoford_value  Upton_value\n",
       "1935           0.335        0.464\n",
       "21793          0.595        0.903\n",
       "7033           0.226        0.260\n",
       "1143           0.482        0.531\n",
       "4949           0.298        0.354\n",
       "...              ...          ...\n",
       "30580          0.621        0.875\n",
       "28763          0.466        0.480\n",
       "14263          0.231        0.284\n",
       "13371          0.215        0.241\n",
       "1645           0.365        0.561\n",
       "\n",
       "[21276 rows x 2 columns]"
      ]
     },
     "execution_count": 50,
     "metadata": {},
     "output_type": "execute_result"
    }
   ],
   "source": [
    "x_train_data # 20101 rows"
   ]
  },
  {
   "cell_type": "code",
   "execution_count": 51,
   "id": "494cd5f4",
   "metadata": {},
   "outputs": [
    {
     "data": {
      "text/html": [
       "<div>\n",
       "<style scoped>\n",
       "    .dataframe tbody tr th:only-of-type {\n",
       "        vertical-align: middle;\n",
       "    }\n",
       "\n",
       "    .dataframe tbody tr th {\n",
       "        vertical-align: top;\n",
       "    }\n",
       "\n",
       "    .dataframe thead th {\n",
       "        text-align: right;\n",
       "    }\n",
       "</style>\n",
       "<table border=\"1\" class=\"dataframe\">\n",
       "  <thead>\n",
       "    <tr style=\"text-align: right;\">\n",
       "      <th></th>\n",
       "      <th>Yeoford_value</th>\n",
       "      <th>Upton_value</th>\n",
       "    </tr>\n",
       "  </thead>\n",
       "  <tbody>\n",
       "    <tr>\n",
       "      <th>7490</th>\n",
       "      <td>0.208</td>\n",
       "      <td>0.242</td>\n",
       "    </tr>\n",
       "    <tr>\n",
       "      <th>20459</th>\n",
       "      <td>0.373</td>\n",
       "      <td>0.528</td>\n",
       "    </tr>\n",
       "    <tr>\n",
       "      <th>14029</th>\n",
       "      <td>0.216</td>\n",
       "      <td>0.233</td>\n",
       "    </tr>\n",
       "    <tr>\n",
       "      <th>19363</th>\n",
       "      <td>0.277</td>\n",
       "      <td>0.396</td>\n",
       "    </tr>\n",
       "    <tr>\n",
       "      <th>30282</th>\n",
       "      <td>0.782</td>\n",
       "      <td>1.167</td>\n",
       "    </tr>\n",
       "    <tr>\n",
       "      <th>...</th>\n",
       "      <td>...</td>\n",
       "      <td>...</td>\n",
       "    </tr>\n",
       "    <tr>\n",
       "      <th>13297</th>\n",
       "      <td>0.219</td>\n",
       "      <td>0.242</td>\n",
       "    </tr>\n",
       "    <tr>\n",
       "      <th>13999</th>\n",
       "      <td>0.215</td>\n",
       "      <td>0.233</td>\n",
       "    </tr>\n",
       "    <tr>\n",
       "      <th>2031</th>\n",
       "      <td>0.324</td>\n",
       "      <td>0.438</td>\n",
       "    </tr>\n",
       "    <tr>\n",
       "      <th>1710</th>\n",
       "      <td>0.360</td>\n",
       "      <td>0.536</td>\n",
       "    </tr>\n",
       "    <tr>\n",
       "      <th>8368</th>\n",
       "      <td>0.209</td>\n",
       "      <td>0.242</td>\n",
       "    </tr>\n",
       "  </tbody>\n",
       "</table>\n",
       "<p>5319 rows × 2 columns</p>\n",
       "</div>"
      ],
      "text/plain": [
       "       Yeoford_value  Upton_value\n",
       "7490           0.208        0.242\n",
       "20459          0.373        0.528\n",
       "14029          0.216        0.233\n",
       "19363          0.277        0.396\n",
       "30282          0.782        1.167\n",
       "...              ...          ...\n",
       "13297          0.219        0.242\n",
       "13999          0.215        0.233\n",
       "2031           0.324        0.438\n",
       "1710           0.360        0.536\n",
       "8368           0.209        0.242\n",
       "\n",
       "[5319 rows x 2 columns]"
      ]
     },
     "execution_count": 51,
     "metadata": {},
     "output_type": "execute_result"
    }
   ],
   "source": [
    "x_test_data # 5026 rows"
   ]
  },
  {
   "cell_type": "code",
   "execution_count": 52,
   "id": "23bb8956",
   "metadata": {},
   "outputs": [
    {
     "data": {
      "text/plain": [
       "1935     0.474\n",
       "21793    0.865\n",
       "7033     0.250\n",
       "1143     0.612\n",
       "4949     0.375\n",
       "         ...  \n",
       "30580    0.948\n",
       "28763    0.601\n",
       "14263    0.236\n",
       "13371    0.197\n",
       "1645     0.554\n",
       "Name: Cowley_value, Length: 21276, dtype: float64"
      ]
     },
     "execution_count": 52,
     "metadata": {},
     "output_type": "execute_result"
    }
   ],
   "source": [
    "y_train_data # Length: 20101"
   ]
  },
  {
   "cell_type": "code",
   "execution_count": 53,
   "id": "1fa79135",
   "metadata": {},
   "outputs": [
    {
     "data": {
      "text/plain": [
       "7490     0.225\n",
       "20459    0.476\n",
       "14029    0.194\n",
       "19363    0.310\n",
       "30282    1.259\n",
       "         ...  \n",
       "13297    0.199\n",
       "13999    0.192\n",
       "2031     0.448\n",
       "1710     0.536\n",
       "8368     0.218\n",
       "Name: Cowley_value, Length: 5319, dtype: float64"
      ]
     },
     "execution_count": 53,
     "metadata": {},
     "output_type": "execute_result"
    }
   ],
   "source": [
    "y_test_data # Length: 5026"
   ]
  },
  {
   "cell_type": "code",
   "execution_count": null,
   "id": "1d93442a",
   "metadata": {},
   "outputs": [],
   "source": []
  },
  {
   "cell_type": "code",
   "execution_count": 54,
   "id": "93c037e7",
   "metadata": {},
   "outputs": [],
   "source": [
    "#now we have our training data, let's make an instance of the model\n",
    "# to train and predict\n",
    "L_model = LinearRegression()\n",
    "\n",
    "# l_model is just a variable name"
   ]
  },
  {
   "cell_type": "code",
   "execution_count": 55,
   "id": "c1a67162",
   "metadata": {},
   "outputs": [
    {
     "data": {
      "text/html": [
       "<style>#sk-container-id-1 {color: black;}#sk-container-id-1 pre{padding: 0;}#sk-container-id-1 div.sk-toggleable {background-color: white;}#sk-container-id-1 label.sk-toggleable__label {cursor: pointer;display: block;width: 100%;margin-bottom: 0;padding: 0.3em;box-sizing: border-box;text-align: center;}#sk-container-id-1 label.sk-toggleable__label-arrow:before {content: \"▸\";float: left;margin-right: 0.25em;color: #696969;}#sk-container-id-1 label.sk-toggleable__label-arrow:hover:before {color: black;}#sk-container-id-1 div.sk-estimator:hover label.sk-toggleable__label-arrow:before {color: black;}#sk-container-id-1 div.sk-toggleable__content {max-height: 0;max-width: 0;overflow: hidden;text-align: left;background-color: #f0f8ff;}#sk-container-id-1 div.sk-toggleable__content pre {margin: 0.2em;color: black;border-radius: 0.25em;background-color: #f0f8ff;}#sk-container-id-1 input.sk-toggleable__control:checked~div.sk-toggleable__content {max-height: 200px;max-width: 100%;overflow: auto;}#sk-container-id-1 input.sk-toggleable__control:checked~label.sk-toggleable__label-arrow:before {content: \"▾\";}#sk-container-id-1 div.sk-estimator input.sk-toggleable__control:checked~label.sk-toggleable__label {background-color: #d4ebff;}#sk-container-id-1 div.sk-label input.sk-toggleable__control:checked~label.sk-toggleable__label {background-color: #d4ebff;}#sk-container-id-1 input.sk-hidden--visually {border: 0;clip: rect(1px 1px 1px 1px);clip: rect(1px, 1px, 1px, 1px);height: 1px;margin: -1px;overflow: hidden;padding: 0;position: absolute;width: 1px;}#sk-container-id-1 div.sk-estimator {font-family: monospace;background-color: #f0f8ff;border: 1px dotted black;border-radius: 0.25em;box-sizing: border-box;margin-bottom: 0.5em;}#sk-container-id-1 div.sk-estimator:hover {background-color: #d4ebff;}#sk-container-id-1 div.sk-parallel-item::after {content: \"\";width: 100%;border-bottom: 1px solid gray;flex-grow: 1;}#sk-container-id-1 div.sk-label:hover label.sk-toggleable__label {background-color: #d4ebff;}#sk-container-id-1 div.sk-serial::before {content: \"\";position: absolute;border-left: 1px solid gray;box-sizing: border-box;top: 0;bottom: 0;left: 50%;z-index: 0;}#sk-container-id-1 div.sk-serial {display: flex;flex-direction: column;align-items: center;background-color: white;padding-right: 0.2em;padding-left: 0.2em;position: relative;}#sk-container-id-1 div.sk-item {position: relative;z-index: 1;}#sk-container-id-1 div.sk-parallel {display: flex;align-items: stretch;justify-content: center;background-color: white;position: relative;}#sk-container-id-1 div.sk-item::before, #sk-container-id-1 div.sk-parallel-item::before {content: \"\";position: absolute;border-left: 1px solid gray;box-sizing: border-box;top: 0;bottom: 0;left: 50%;z-index: -1;}#sk-container-id-1 div.sk-parallel-item {display: flex;flex-direction: column;z-index: 1;position: relative;background-color: white;}#sk-container-id-1 div.sk-parallel-item:first-child::after {align-self: flex-end;width: 50%;}#sk-container-id-1 div.sk-parallel-item:last-child::after {align-self: flex-start;width: 50%;}#sk-container-id-1 div.sk-parallel-item:only-child::after {width: 0;}#sk-container-id-1 div.sk-dashed-wrapped {border: 1px dashed gray;margin: 0 0.4em 0.5em 0.4em;box-sizing: border-box;padding-bottom: 0.4em;background-color: white;}#sk-container-id-1 div.sk-label label {font-family: monospace;font-weight: bold;display: inline-block;line-height: 1.2em;}#sk-container-id-1 div.sk-label-container {text-align: center;}#sk-container-id-1 div.sk-container {/* jupyter's `normalize.less` sets `[hidden] { display: none; }` but bootstrap.min.css set `[hidden] { display: none !important; }` so we also need the `!important` here to be able to override the default hidden behavior on the sphinx rendered scikit-learn.org. See: https://github.com/scikit-learn/scikit-learn/issues/21755 */display: inline-block !important;position: relative;}#sk-container-id-1 div.sk-text-repr-fallback {display: none;}</style><div id=\"sk-container-id-1\" class=\"sk-top-container\"><div class=\"sk-text-repr-fallback\"><pre>LinearRegression()</pre><b>In a Jupyter environment, please rerun this cell to show the HTML representation or trust the notebook. <br />On GitHub, the HTML representation is unable to render, please try loading this page with nbviewer.org.</b></div><div class=\"sk-container\" hidden><div class=\"sk-item\"><div class=\"sk-estimator sk-toggleable\"><input class=\"sk-toggleable__control sk-hidden--visually\" id=\"sk-estimator-id-1\" type=\"checkbox\" checked><label for=\"sk-estimator-id-1\" class=\"sk-toggleable__label sk-toggleable__label-arrow\">LinearRegression</label><div class=\"sk-toggleable__content\"><pre>LinearRegression()</pre></div></div></div></div></div>"
      ],
      "text/plain": [
       "LinearRegression()"
      ]
     },
     "execution_count": 55,
     "metadata": {},
     "output_type": "execute_result"
    }
   ],
   "source": [
    "#fitting is training\n",
    "\n",
    "L_model.fit(x_train_data,y_train_data)\n"
   ]
  },
  {
   "cell_type": "code",
   "execution_count": 56,
   "id": "54428394",
   "metadata": {},
   "outputs": [],
   "source": [
    "# now that the model has been trained, let's try to make some \n",
    "# predictions, remember we have y_test they x_test values will be \n",
    "# used to predict y,and then we compare with the actual y in y_test\n",
    "\n",
    "y_prediction = L_model.predict(x_test_data) "
   ]
  },
  {
   "cell_type": "code",
   "execution_count": 57,
   "id": "24762ddb",
   "metadata": {},
   "outputs": [
    {
     "data": {
      "text/plain": [
       "array([0.22509188, 0.51220118, 0.22261281, ..., 0.4233047 , 0.51147835,\n",
       "       0.22558883])"
      ]
     },
     "execution_count": 57,
     "metadata": {},
     "output_type": "execute_result"
    }
   ],
   "source": [
    "y_prediction"
   ]
  },
  {
   "cell_type": "code",
   "execution_count": 58,
   "id": "fe0dab06",
   "metadata": {},
   "outputs": [
    {
     "data": {
      "text/plain": [
       "7490     0.225\n",
       "20459    0.476\n",
       "14029    0.194\n",
       "19363    0.310\n",
       "30282    1.259\n",
       "         ...  \n",
       "13297    0.199\n",
       "13999    0.192\n",
       "2031     0.448\n",
       "1710     0.536\n",
       "8368     0.218\n",
       "Name: Cowley_value, Length: 5319, dtype: float64"
      ]
     },
     "execution_count": 58,
     "metadata": {},
     "output_type": "execute_result"
    }
   ],
   "source": [
    "y_test_data   # visually compare the computer predictions \n",
    "              # y_prediction with the y_yest_data (actualy answers)"
   ]
  },
  {
   "cell_type": "code",
   "execution_count": 59,
   "id": "c1ab7526",
   "metadata": {},
   "outputs": [
    {
     "data": {
      "image/png": "[encoded data removed]",
      "text/plain": [
       "<Figure size 640x480 with 1 Axes>"
      ]
     },
     "metadata": {},
     "output_type": "display_data"
    }
   ],
   "source": [
    "#create seaborn scatter plot to compare performance visually\n",
    "\n",
    "ax = sns.scatterplot(x=y_test_data,y = y_prediction, marker='o')\n",
    "\n",
    "#specfiy axis labels\n",
    "ax.set(xlabel='Actual y values',ylabel='Predicted y values', \n",
    "       title='actual vs predicted')\n",
    "\n",
    "#display plot\n",
    "plt.show()\n",
    "\n",
    "# the higher the values the lower the accuracy, but this is to be \n",
    "# expected as there is nothing in the data to tell the model if the\n",
    "# river is going up or down. The value of Cowley is delayed \n",
    "# compared with the value of the inputs.  Can I do something \n",
    "# with that to tell the model that there is a delay of a few hours?"
   ]
  },
  {
   "cell_type": "code",
   "execution_count": 60,
   "id": "7080d27c",
   "metadata": {},
   "outputs": [],
   "source": [
    "# import metrics for scoring model performance\n",
    "from sklearn.metrics import r2_score,mean_squared_error"
   ]
  },
  {
   "cell_type": "code",
   "execution_count": 61,
   "id": "6355bb75",
   "metadata": {},
   "outputs": [],
   "source": [
    "# r2 score range 0-1, the closer to 1 the better the model, the \n",
    "# closer to zero the worse.  Crudely, how many predictions were \n",
    "# correct?"
   ]
  },
  {
   "cell_type": "code",
   "execution_count": 62,
   "id": "8a2bb4ac",
   "metadata": {},
   "outputs": [
    {
     "data": {
      "text/plain": [
       "0.9216378345086607"
      ]
     },
     "execution_count": 62,
     "metadata": {},
     "output_type": "execute_result"
    }
   ],
   "source": [
    "r2_score(y_test_data,y_prediction)  # 5.0 and above is better"
   ]
  },
  {
   "cell_type": "code",
   "execution_count": 63,
   "id": "e4525298",
   "metadata": {},
   "outputs": [
    {
     "data": {
      "text/plain": [
       "array([0.49694388, 0.71718025])"
      ]
     },
     "execution_count": 63,
     "metadata": {},
     "output_type": "execute_result"
    }
   ],
   "source": [
    "# the coefficients of each x input, in order\n",
    "L_model.coef_  # this is how we see the coeffitients for the \n",
    "               # individual values"
   ]
  },
  {
   "cell_type": "code",
   "execution_count": 64,
   "id": "e879f897",
   "metadata": {},
   "outputs": [
    {
     "data": {
      "text/plain": [
       "-0.05183006331515183"
      ]
     },
     "execution_count": 64,
     "metadata": {},
     "output_type": "execute_result"
    }
   ],
   "source": [
    "# the y intercept\n",
    "L_model.intercept_"
   ]
  },
  {
   "cell_type": "code",
   "execution_count": null,
   "id": "8ae02b6e",
   "metadata": {},
   "outputs": [],
   "source": []
  },
  {
   "cell_type": "code",
   "execution_count": 65,
   "id": "3f80eeef",
   "metadata": {},
   "outputs": [],
   "source": [
    "# From looking at individual peaks I think it takes (very) \n",
    "# approximately four hours for the water at Yeoford and Upton \n",
    "# to get to Cowley, so can I create an additional column against \n",
    "# each time stamp for the value of Cowley 4 hours later?\n",
    "\n",
    "# I will need to go back to my df before I dropped NaNs as I may \n",
    "# well generate a few more with this!"
   ]
  },
  {
   "cell_type": "code",
   "execution_count": 66,
   "id": "6b85f18b",
   "metadata": {},
   "outputs": [
    {
     "data": {
      "text/html": [
       "<div>\n",
       "<style scoped>\n",
       "    .dataframe tbody tr th:only-of-type {\n",
       "        vertical-align: middle;\n",
       "    }\n",
       "\n",
       "    .dataframe tbody tr th {\n",
       "        vertical-align: top;\n",
       "    }\n",
       "\n",
       "    .dataframe thead th {\n",
       "        text-align: right;\n",
       "    }\n",
       "</style>\n",
       "<table border=\"1\" class=\"dataframe\">\n",
       "  <thead>\n",
       "    <tr style=\"text-align: right;\">\n",
       "      <th></th>\n",
       "      <th>all_times</th>\n",
       "      <th>Yeoford_value</th>\n",
       "      <th>Upton_value</th>\n",
       "      <th>Cowley_value</th>\n",
       "      <th>Cowley_4_later</th>\n",
       "    </tr>\n",
       "  </thead>\n",
       "  <tbody>\n",
       "    <tr>\n",
       "      <th>0</th>\n",
       "      <td>2023-03-31 00:00:00</td>\n",
       "      <td>0.928</td>\n",
       "      <td>1.129</td>\n",
       "      <td>0.984</td>\n",
       "      <td>0.984</td>\n",
       "    </tr>\n",
       "    <tr>\n",
       "      <th>1</th>\n",
       "      <td>2023-03-31 00:15:00</td>\n",
       "      <td>0.965</td>\n",
       "      <td>1.144</td>\n",
       "      <td>1.012</td>\n",
       "      <td>1.012</td>\n",
       "    </tr>\n",
       "    <tr>\n",
       "      <th>2</th>\n",
       "      <td>2023-03-31 00:30:00</td>\n",
       "      <td>1.002</td>\n",
       "      <td>1.170</td>\n",
       "      <td>1.040</td>\n",
       "      <td>1.040</td>\n",
       "    </tr>\n",
       "    <tr>\n",
       "      <th>3</th>\n",
       "      <td>2023-03-31 00:45:00</td>\n",
       "      <td>1.052</td>\n",
       "      <td>1.199</td>\n",
       "      <td>1.072</td>\n",
       "      <td>1.072</td>\n",
       "    </tr>\n",
       "    <tr>\n",
       "      <th>4</th>\n",
       "      <td>2023-03-31 01:00:00</td>\n",
       "      <td>1.080</td>\n",
       "      <td>1.230</td>\n",
       "      <td>1.104</td>\n",
       "      <td>1.104</td>\n",
       "    </tr>\n",
       "  </tbody>\n",
       "</table>\n",
       "</div>"
      ],
      "text/plain": [
       "            all_times  Yeoford_value  Upton_value  Cowley_value  \\\n",
       "0 2023-03-31 00:00:00          0.928        1.129         0.984   \n",
       "1 2023-03-31 00:15:00          0.965        1.144         1.012   \n",
       "2 2023-03-31 00:30:00          1.002        1.170         1.040   \n",
       "3 2023-03-31 00:45:00          1.052        1.199         1.072   \n",
       "4 2023-03-31 01:00:00          1.080        1.230         1.104   \n",
       "\n",
       "   Cowley_4_later  \n",
       "0           0.984  \n",
       "1           1.012  \n",
       "2           1.040  \n",
       "3           1.072  \n",
       "4           1.104  "
      ]
     },
     "execution_count": 66,
     "metadata": {},
     "output_type": "execute_result"
    }
   ],
   "source": [
    "# Creating a new column with a copy of the cowley data in\n",
    "\n",
    "all_time_all_short[\"Cowley_4_later\"] = all_time_all_short[\"Cowley_value\"]\n",
    "all_time_all_short.head()"
   ]
  },
  {
   "cell_type": "code",
   "execution_count": 67,
   "id": "312263b9",
   "metadata": {},
   "outputs": [
    {
     "data": {
      "text/html": [
       "<div>\n",
       "<style scoped>\n",
       "    .dataframe tbody tr th:only-of-type {\n",
       "        vertical-align: middle;\n",
       "    }\n",
       "\n",
       "    .dataframe tbody tr th {\n",
       "        vertical-align: top;\n",
       "    }\n",
       "\n",
       "    .dataframe thead th {\n",
       "        text-align: right;\n",
       "    }\n",
       "</style>\n",
       "<table border=\"1\" class=\"dataframe\">\n",
       "  <thead>\n",
       "    <tr style=\"text-align: right;\">\n",
       "      <th></th>\n",
       "      <th>all_times</th>\n",
       "      <th>Yeoford_value</th>\n",
       "      <th>Upton_value</th>\n",
       "      <th>Cowley_value</th>\n",
       "      <th>Cowley_4_later</th>\n",
       "    </tr>\n",
       "  </thead>\n",
       "  <tbody>\n",
       "    <tr>\n",
       "      <th>0</th>\n",
       "      <td>2023-03-31 00:00:00</td>\n",
       "      <td>0.928</td>\n",
       "      <td>1.129</td>\n",
       "      <td>0.984</td>\n",
       "      <td>NaN</td>\n",
       "    </tr>\n",
       "    <tr>\n",
       "      <th>1</th>\n",
       "      <td>2023-03-31 00:15:00</td>\n",
       "      <td>0.965</td>\n",
       "      <td>1.144</td>\n",
       "      <td>1.012</td>\n",
       "      <td>NaN</td>\n",
       "    </tr>\n",
       "    <tr>\n",
       "      <th>2</th>\n",
       "      <td>2023-03-31 00:30:00</td>\n",
       "      <td>1.002</td>\n",
       "      <td>1.170</td>\n",
       "      <td>1.040</td>\n",
       "      <td>NaN</td>\n",
       "    </tr>\n",
       "    <tr>\n",
       "      <th>3</th>\n",
       "      <td>2023-03-31 00:45:00</td>\n",
       "      <td>1.052</td>\n",
       "      <td>1.199</td>\n",
       "      <td>1.072</td>\n",
       "      <td>NaN</td>\n",
       "    </tr>\n",
       "    <tr>\n",
       "      <th>4</th>\n",
       "      <td>2023-03-31 01:00:00</td>\n",
       "      <td>1.080</td>\n",
       "      <td>1.230</td>\n",
       "      <td>1.104</td>\n",
       "      <td>NaN</td>\n",
       "    </tr>\n",
       "    <tr>\n",
       "      <th>5</th>\n",
       "      <td>2023-03-31 01:15:00</td>\n",
       "      <td>1.139</td>\n",
       "      <td>1.259</td>\n",
       "      <td>1.134</td>\n",
       "      <td>NaN</td>\n",
       "    </tr>\n",
       "    <tr>\n",
       "      <th>6</th>\n",
       "      <td>2023-03-31 01:30:00</td>\n",
       "      <td>1.157</td>\n",
       "      <td>1.297</td>\n",
       "      <td>1.173</td>\n",
       "      <td>NaN</td>\n",
       "    </tr>\n",
       "    <tr>\n",
       "      <th>7</th>\n",
       "      <td>2023-03-31 01:45:00</td>\n",
       "      <td>1.179</td>\n",
       "      <td>1.327</td>\n",
       "      <td>1.215</td>\n",
       "      <td>NaN</td>\n",
       "    </tr>\n",
       "    <tr>\n",
       "      <th>8</th>\n",
       "      <td>2023-03-31 02:00:00</td>\n",
       "      <td>1.157</td>\n",
       "      <td>1.358</td>\n",
       "      <td>1.258</td>\n",
       "      <td>NaN</td>\n",
       "    </tr>\n",
       "    <tr>\n",
       "      <th>9</th>\n",
       "      <td>2023-03-31 02:15:00</td>\n",
       "      <td>1.160</td>\n",
       "      <td>1.377</td>\n",
       "      <td>1.301</td>\n",
       "      <td>NaN</td>\n",
       "    </tr>\n",
       "    <tr>\n",
       "      <th>10</th>\n",
       "      <td>2023-03-31 02:30:00</td>\n",
       "      <td>1.145</td>\n",
       "      <td>1.390</td>\n",
       "      <td>1.342</td>\n",
       "      <td>NaN</td>\n",
       "    </tr>\n",
       "    <tr>\n",
       "      <th>11</th>\n",
       "      <td>2023-03-31 02:45:00</td>\n",
       "      <td>1.128</td>\n",
       "      <td>1.378</td>\n",
       "      <td>1.391</td>\n",
       "      <td>NaN</td>\n",
       "    </tr>\n",
       "    <tr>\n",
       "      <th>12</th>\n",
       "      <td>2023-03-31 03:00:00</td>\n",
       "      <td>1.104</td>\n",
       "      <td>1.379</td>\n",
       "      <td>1.434</td>\n",
       "      <td>NaN</td>\n",
       "    </tr>\n",
       "    <tr>\n",
       "      <th>13</th>\n",
       "      <td>2023-03-31 03:15:00</td>\n",
       "      <td>1.096</td>\n",
       "      <td>1.368</td>\n",
       "      <td>1.464</td>\n",
       "      <td>NaN</td>\n",
       "    </tr>\n",
       "    <tr>\n",
       "      <th>14</th>\n",
       "      <td>2023-03-31 03:30:00</td>\n",
       "      <td>1.065</td>\n",
       "      <td>1.349</td>\n",
       "      <td>1.484</td>\n",
       "      <td>NaN</td>\n",
       "    </tr>\n",
       "    <tr>\n",
       "      <th>15</th>\n",
       "      <td>2023-03-31 03:45:00</td>\n",
       "      <td>1.060</td>\n",
       "      <td>1.332</td>\n",
       "      <td>1.500</td>\n",
       "      <td>NaN</td>\n",
       "    </tr>\n",
       "    <tr>\n",
       "      <th>16</th>\n",
       "      <td>2023-03-31 04:00:00</td>\n",
       "      <td>1.042</td>\n",
       "      <td>1.308</td>\n",
       "      <td>1.518</td>\n",
       "      <td>0.984</td>\n",
       "    </tr>\n",
       "    <tr>\n",
       "      <th>17</th>\n",
       "      <td>2023-03-31 04:15:00</td>\n",
       "      <td>1.045</td>\n",
       "      <td>1.297</td>\n",
       "      <td>1.528</td>\n",
       "      <td>1.012</td>\n",
       "    </tr>\n",
       "    <tr>\n",
       "      <th>18</th>\n",
       "      <td>2023-03-31 04:30:00</td>\n",
       "      <td>1.058</td>\n",
       "      <td>1.290</td>\n",
       "      <td>1.535</td>\n",
       "      <td>1.040</td>\n",
       "    </tr>\n",
       "    <tr>\n",
       "      <th>19</th>\n",
       "      <td>2023-03-31 04:45:00</td>\n",
       "      <td>1.069</td>\n",
       "      <td>1.272</td>\n",
       "      <td>1.540</td>\n",
       "      <td>1.072</td>\n",
       "    </tr>\n",
       "  </tbody>\n",
       "</table>\n",
       "</div>"
      ],
      "text/plain": [
       "             all_times  Yeoford_value  Upton_value  Cowley_value  \\\n",
       "0  2023-03-31 00:00:00          0.928        1.129         0.984   \n",
       "1  2023-03-31 00:15:00          0.965        1.144         1.012   \n",
       "2  2023-03-31 00:30:00          1.002        1.170         1.040   \n",
       "3  2023-03-31 00:45:00          1.052        1.199         1.072   \n",
       "4  2023-03-31 01:00:00          1.080        1.230         1.104   \n",
       "5  2023-03-31 01:15:00          1.139        1.259         1.134   \n",
       "6  2023-03-31 01:30:00          1.157        1.297         1.173   \n",
       "7  2023-03-31 01:45:00          1.179        1.327         1.215   \n",
       "8  2023-03-31 02:00:00          1.157        1.358         1.258   \n",
       "9  2023-03-31 02:15:00          1.160        1.377         1.301   \n",
       "10 2023-03-31 02:30:00          1.145        1.390         1.342   \n",
       "11 2023-03-31 02:45:00          1.128        1.378         1.391   \n",
       "12 2023-03-31 03:00:00          1.104        1.379         1.434   \n",
       "13 2023-03-31 03:15:00          1.096        1.368         1.464   \n",
       "14 2023-03-31 03:30:00          1.065        1.349         1.484   \n",
       "15 2023-03-31 03:45:00          1.060        1.332         1.500   \n",
       "16 2023-03-31 04:00:00          1.042        1.308         1.518   \n",
       "17 2023-03-31 04:15:00          1.045        1.297         1.528   \n",
       "18 2023-03-31 04:30:00          1.058        1.290         1.535   \n",
       "19 2023-03-31 04:45:00          1.069        1.272         1.540   \n",
       "\n",
       "    Cowley_4_later  \n",
       "0              NaN  \n",
       "1              NaN  \n",
       "2              NaN  \n",
       "3              NaN  \n",
       "4              NaN  \n",
       "5              NaN  \n",
       "6              NaN  \n",
       "7              NaN  \n",
       "8              NaN  \n",
       "9              NaN  \n",
       "10             NaN  \n",
       "11             NaN  \n",
       "12             NaN  \n",
       "13             NaN  \n",
       "14             NaN  \n",
       "15             NaN  \n",
       "16           0.984  \n",
       "17           1.012  \n",
       "18           1.040  \n",
       "19           1.072  "
      ]
     },
     "execution_count": 67,
     "metadata": {},
     "output_type": "execute_result"
    }
   ],
   "source": [
    "# With 4 hours and 4 timeslots in each hour, I want to shift the \n",
    "# data by 16 steps\n",
    "all_time_all_short[\"Cowley_4_later\"] = all_time_all_short[\"Cowley_4_later\"].shift(periods=16, axis=\"index\")\n",
    "all_time_all_short.head(20)\n",
    "# so I now have a new column with Cowley as it will be in 4 hours \n",
    "# after the time (which) should mean closer match to peaks"
   ]
  },
  {
   "cell_type": "code",
   "execution_count": 68,
   "id": "6d322e6b",
   "metadata": {},
   "outputs": [
    {
     "name": "stdout",
     "output_type": "stream",
     "text": [
      "<class 'pandas.core.frame.DataFrame'>\n",
      "Index: 26284 entries, 16 to 32224\n",
      "Data columns (total 5 columns):\n",
      " #   Column          Non-Null Count  Dtype         \n",
      "---  ------          --------------  -----         \n",
      " 0   all_times       26284 non-null  datetime64[ns]\n",
      " 1   Yeoford_value   26284 non-null  float64       \n",
      " 2   Upton_value     26284 non-null  float64       \n",
      " 3   Cowley_value    26284 non-null  float64       \n",
      " 4   Cowley_4_later  26284 non-null  float64       \n",
      "dtypes: datetime64[ns](1), float64(4)\n",
      "memory usage: 1.2 MB\n"
     ]
    }
   ],
   "source": [
    "# Simply dropping all NaN rows a we can't train the model with those\n",
    "new_no_nan = all_time_all_short.dropna()\n",
    "new_no_nan.info()"
   ]
  },
  {
   "cell_type": "code",
   "execution_count": null,
   "id": "7bba2da4",
   "metadata": {},
   "outputs": [],
   "source": []
  },
  {
   "cell_type": "code",
   "execution_count": 69,
   "id": "99a00463",
   "metadata": {},
   "outputs": [
    {
     "data": {
      "text/plain": [
       "all_times         0.350667\n",
       "Yeoford_value     0.843843\n",
       "Upton_value       0.905684\n",
       "Cowley_value      0.967776\n",
       "Cowley_4_later    1.000000\n",
       "Name: Cowley_4_later, dtype: float64"
      ]
     },
     "execution_count": 69,
     "metadata": {},
     "output_type": "execute_result"
    }
   ],
   "source": [
    "new_no_nan.corr()[\"Cowley_4_later\"]\n",
    "# OK, so that doesn't seem to have worked as the corrolation values\n",
    "# before were:\n",
    "#    Yeoford_value    0.924973\n",
    "#    Upton_value      0.952895\n",
    "#    Name: Cowley_value, dtype: float64\n",
    "\n",
    "# So in both cases the corrolation is less by shifting Cowley \n",
    "# Bridge by 4 hours, but as Cowley will onw be higher than it was I \n",
    "# guess that makes sense. \n",
    "# Lets follow through and try to see if the new model is more \n",
    "# accurate?"
   ]
  },
  {
   "cell_type": "code",
   "execution_count": 70,
   "id": "651b20fb",
   "metadata": {},
   "outputs": [],
   "source": [
    "# Looking at the river levels upstream as the inputs and the river \n",
    "# level downstream timeshifted as the calculated value\n",
    "\n",
    "# inputs are Yeoford_value and Upton_value\n",
    "x2_inputs = new_no_nan.iloc[:,1:3]   \n",
    "# output is Cowley_4_later\n",
    "y2_target = new_no_nan.iloc[:,4]        "
   ]
  },
  {
   "cell_type": "code",
   "execution_count": 71,
   "id": "8bf3ec6a",
   "metadata": {},
   "outputs": [
    {
     "data": {
      "text/html": [
       "<div>\n",
       "<style scoped>\n",
       "    .dataframe tbody tr th:only-of-type {\n",
       "        vertical-align: middle;\n",
       "    }\n",
       "\n",
       "    .dataframe tbody tr th {\n",
       "        vertical-align: top;\n",
       "    }\n",
       "\n",
       "    .dataframe thead th {\n",
       "        text-align: right;\n",
       "    }\n",
       "</style>\n",
       "<table border=\"1\" class=\"dataframe\">\n",
       "  <thead>\n",
       "    <tr style=\"text-align: right;\">\n",
       "      <th></th>\n",
       "      <th>Yeoford_value</th>\n",
       "      <th>Upton_value</th>\n",
       "    </tr>\n",
       "  </thead>\n",
       "  <tbody>\n",
       "    <tr>\n",
       "      <th>16</th>\n",
       "      <td>1.042</td>\n",
       "      <td>1.308</td>\n",
       "    </tr>\n",
       "    <tr>\n",
       "      <th>17</th>\n",
       "      <td>1.045</td>\n",
       "      <td>1.297</td>\n",
       "    </tr>\n",
       "    <tr>\n",
       "      <th>18</th>\n",
       "      <td>1.058</td>\n",
       "      <td>1.290</td>\n",
       "    </tr>\n",
       "    <tr>\n",
       "      <th>19</th>\n",
       "      <td>1.069</td>\n",
       "      <td>1.272</td>\n",
       "    </tr>\n",
       "    <tr>\n",
       "      <th>20</th>\n",
       "      <td>1.092</td>\n",
       "      <td>1.264</td>\n",
       "    </tr>\n",
       "  </tbody>\n",
       "</table>\n",
       "</div>"
      ],
      "text/plain": [
       "    Yeoford_value  Upton_value\n",
       "16          1.042        1.308\n",
       "17          1.045        1.297\n",
       "18          1.058        1.290\n",
       "19          1.069        1.272\n",
       "20          1.092        1.264"
      ]
     },
     "execution_count": 71,
     "metadata": {},
     "output_type": "execute_result"
    }
   ],
   "source": [
    "x2_inputs.head() "
   ]
  },
  {
   "cell_type": "code",
   "execution_count": 72,
   "id": "2c62deab",
   "metadata": {},
   "outputs": [
    {
     "data": {
      "text/plain": [
       "16    0.984\n",
       "17    1.012\n",
       "18    1.040\n",
       "19    1.072\n",
       "20    1.104\n",
       "Name: Cowley_4_later, dtype: float64"
      ]
     },
     "execution_count": 72,
     "metadata": {},
     "output_type": "execute_result"
    }
   ],
   "source": [
    "y2_target.head()   "
   ]
  },
  {
   "cell_type": "code",
   "execution_count": 73,
   "id": "258c502b",
   "metadata": {},
   "outputs": [],
   "source": [
    "#now we will split the dataset into two, some part for training, \n",
    "# ome part of testing at 80:20 ratio\n",
    "\n",
    "x2_train_data,x2_test_data,y2_train_data,y2_test_data = train_test_split(x2_inputs,y2_target,test_size=0.20)  "
   ]
  },
  {
   "cell_type": "code",
   "execution_count": 74,
   "id": "02b27b26",
   "metadata": {},
   "outputs": [],
   "source": [
    "#now we have our training data, let's make an instance of the model\n",
    "# to train and predict\n",
    "L2_model = LinearRegression()\n"
   ]
  },
  {
   "cell_type": "code",
   "execution_count": 75,
   "id": "aa8ad489",
   "metadata": {},
   "outputs": [
    {
     "data": {
      "text/html": [
       "<style>#sk-container-id-2 {color: black;}#sk-container-id-2 pre{padding: 0;}#sk-container-id-2 div.sk-toggleable {background-color: white;}#sk-container-id-2 label.sk-toggleable__label {cursor: pointer;display: block;width: 100%;margin-bottom: 0;padding: 0.3em;box-sizing: border-box;text-align: center;}#sk-container-id-2 label.sk-toggleable__label-arrow:before {content: \"▸\";float: left;margin-right: 0.25em;color: #696969;}#sk-container-id-2 label.sk-toggleable__label-arrow:hover:before {color: black;}#sk-container-id-2 div.sk-estimator:hover label.sk-toggleable__label-arrow:before {color: black;}#sk-container-id-2 div.sk-toggleable__content {max-height: 0;max-width: 0;overflow: hidden;text-align: left;background-color: #f0f8ff;}#sk-container-id-2 div.sk-toggleable__content pre {margin: 0.2em;color: black;border-radius: 0.25em;background-color: #f0f8ff;}#sk-container-id-2 input.sk-toggleable__control:checked~div.sk-toggleable__content {max-height: 200px;max-width: 100%;overflow: auto;}#sk-container-id-2 input.sk-toggleable__control:checked~label.sk-toggleable__label-arrow:before {content: \"▾\";}#sk-container-id-2 div.sk-estimator input.sk-toggleable__control:checked~label.sk-toggleable__label {background-color: #d4ebff;}#sk-container-id-2 div.sk-label input.sk-toggleable__control:checked~label.sk-toggleable__label {background-color: #d4ebff;}#sk-container-id-2 input.sk-hidden--visually {border: 0;clip: rect(1px 1px 1px 1px);clip: rect(1px, 1px, 1px, 1px);height: 1px;margin: -1px;overflow: hidden;padding: 0;position: absolute;width: 1px;}#sk-container-id-2 div.sk-estimator {font-family: monospace;background-color: #f0f8ff;border: 1px dotted black;border-radius: 0.25em;box-sizing: border-box;margin-bottom: 0.5em;}#sk-container-id-2 div.sk-estimator:hover {background-color: #d4ebff;}#sk-container-id-2 div.sk-parallel-item::after {content: \"\";width: 100%;border-bottom: 1px solid gray;flex-grow: 1;}#sk-container-id-2 div.sk-label:hover label.sk-toggleable__label {background-color: #d4ebff;}#sk-container-id-2 div.sk-serial::before {content: \"\";position: absolute;border-left: 1px solid gray;box-sizing: border-box;top: 0;bottom: 0;left: 50%;z-index: 0;}#sk-container-id-2 div.sk-serial {display: flex;flex-direction: column;align-items: center;background-color: white;padding-right: 0.2em;padding-left: 0.2em;position: relative;}#sk-container-id-2 div.sk-item {position: relative;z-index: 1;}#sk-container-id-2 div.sk-parallel {display: flex;align-items: stretch;justify-content: center;background-color: white;position: relative;}#sk-container-id-2 div.sk-item::before, #sk-container-id-2 div.sk-parallel-item::before {content: \"\";position: absolute;border-left: 1px solid gray;box-sizing: border-box;top: 0;bottom: 0;left: 50%;z-index: -1;}#sk-container-id-2 div.sk-parallel-item {display: flex;flex-direction: column;z-index: 1;position: relative;background-color: white;}#sk-container-id-2 div.sk-parallel-item:first-child::after {align-self: flex-end;width: 50%;}#sk-container-id-2 div.sk-parallel-item:last-child::after {align-self: flex-start;width: 50%;}#sk-container-id-2 div.sk-parallel-item:only-child::after {width: 0;}#sk-container-id-2 div.sk-dashed-wrapped {border: 1px dashed gray;margin: 0 0.4em 0.5em 0.4em;box-sizing: border-box;padding-bottom: 0.4em;background-color: white;}#sk-container-id-2 div.sk-label label {font-family: monospace;font-weight: bold;display: inline-block;line-height: 1.2em;}#sk-container-id-2 div.sk-label-container {text-align: center;}#sk-container-id-2 div.sk-container {/* jupyter's `normalize.less` sets `[hidden] { display: none; }` but bootstrap.min.css set `[hidden] { display: none !important; }` so we also need the `!important` here to be able to override the default hidden behavior on the sphinx rendered scikit-learn.org. See: https://github.com/scikit-learn/scikit-learn/issues/21755 */display: inline-block !important;position: relative;}#sk-container-id-2 div.sk-text-repr-fallback {display: none;}</style><div id=\"sk-container-id-2\" class=\"sk-top-container\"><div class=\"sk-text-repr-fallback\"><pre>LinearRegression()</pre><b>In a Jupyter environment, please rerun this cell to show the HTML representation or trust the notebook. <br />On GitHub, the HTML representation is unable to render, please try loading this page with nbviewer.org.</b></div><div class=\"sk-container\" hidden><div class=\"sk-item\"><div class=\"sk-estimator sk-toggleable\"><input class=\"sk-toggleable__control sk-hidden--visually\" id=\"sk-estimator-id-2\" type=\"checkbox\" checked><label for=\"sk-estimator-id-2\" class=\"sk-toggleable__label sk-toggleable__label-arrow\">LinearRegression</label><div class=\"sk-toggleable__content\"><pre>LinearRegression()</pre></div></div></div></div></div>"
      ],
      "text/plain": [
       "LinearRegression()"
      ]
     },
     "execution_count": 75,
     "metadata": {},
     "output_type": "execute_result"
    }
   ],
   "source": [
    "#fitting is training\n",
    "\n",
    "L2_model.fit(x2_train_data,y2_train_data)"
   ]
  },
  {
   "cell_type": "code",
   "execution_count": 76,
   "id": "ce10ac7e",
   "metadata": {},
   "outputs": [],
   "source": [
    "# now that the model has been trained, let's try to make some \n",
    "# predictions, remember we have y2_test they x2_test values will be\n",
    "# used to predict y, and then we compare with the actual y in \n",
    "# y2_test\n",
    "\n",
    "y2_prediction = L2_model.predict(x2_test_data) "
   ]
  },
  {
   "cell_type": "code",
   "execution_count": 77,
   "id": "055a24de",
   "metadata": {},
   "outputs": [
    {
     "data": {
      "text/plain": [
       "array([0.24964457, 0.28817959, 0.44110433, ..., 0.54134467, 0.24085122,\n",
       "       0.23055746])"
      ]
     },
     "execution_count": 77,
     "metadata": {},
     "output_type": "execute_result"
    }
   ],
   "source": [
    "y2_prediction"
   ]
  },
  {
   "cell_type": "code",
   "execution_count": 78,
   "id": "f6918f37",
   "metadata": {},
   "outputs": [
    {
     "data": {
      "text/plain": [
       "12521    0.206\n",
       "12046    0.264\n",
       "19073    0.339\n",
       "3406     0.450\n",
       "16479    0.329\n",
       "         ...  \n",
       "15266    0.198\n",
       "23435    0.513\n",
       "2955     0.568\n",
       "8678     0.218\n",
       "15400    0.194\n",
       "Name: Cowley_4_later, Length: 5257, dtype: float64"
      ]
     },
     "execution_count": 78,
     "metadata": {},
     "output_type": "execute_result"
    }
   ],
   "source": [
    "y2_test_data   # visually compare the computer predictions \n",
    "             # y2_prediction with the y2_yest_data (actualy answers)"
   ]
  },
  {
   "cell_type": "code",
   "execution_count": 79,
   "id": "3b1c8d4c",
   "metadata": {},
   "outputs": [
    {
     "data": {
      "image/png": "[encoded data removed]",
      "text/plain": [
       "<Figure size 640x480 with 1 Axes>"
      ]
     },
     "metadata": {},
     "output_type": "display_data"
    }
   ],
   "source": [
    "#create seaborn scatter plot to compare performance visually\n",
    "\n",
    "ax = sns.scatterplot(x=y2_test_data,y = y2_prediction, marker='o')\n",
    "\n",
    "#specfiy axis labels\n",
    "ax.set(xlabel='Actual y values',ylabel='Predicted y values', \n",
    "       title='actual vs predicted with timeshift of 4 hours')\n",
    "\n",
    "#display plot\n",
    "plt.show()\n",
    "\n",
    "# the higher the values the lower the accuracy, but this is to be \n",
    "# expected as there is nothing in the data to tell the model \n",
    "# if the river is going up or down. The value of Cowley is delayed \n",
    "# compared with the value of the inputs.  Can I do something \n",
    "# with that to tell the model that there is a delay of a few hours?"
   ]
  },
  {
   "cell_type": "code",
   "execution_count": 80,
   "id": "cd1e3fdb",
   "metadata": {},
   "outputs": [],
   "source": [
    "# The data is more spread not more linear => visually this is a \n",
    "# worse model not better"
   ]
  },
  {
   "cell_type": "code",
   "execution_count": 81,
   "id": "38122773",
   "metadata": {},
   "outputs": [
    {
     "data": {
      "text/plain": [
       "0.8234339574065541"
      ]
     },
     "execution_count": 81,
     "metadata": {},
     "output_type": "execute_result"
    }
   ],
   "source": [
    "r2_score(y2_test_data,y2_prediction)  # 5.0 and above is better"
   ]
  },
  {
   "cell_type": "code",
   "execution_count": 82,
   "id": "b8e580f1",
   "metadata": {},
   "outputs": [],
   "source": [
    "# the RMS value shows that it is a poorer model.  MY assumption \n",
    "# that this would be better was wrong I can't get more accurate \n",
    "# predictions of the river height at Cowley Brdige by using data \n",
    "# four hours delayed to model with instead of instantaineous \n",
    "# values."
   ]
  },
  {
   "cell_type": "code",
   "execution_count": null,
   "id": "50676875",
   "metadata": {},
   "outputs": [],
   "source": []
  },
  {
   "cell_type": "code",
   "execution_count": null,
   "id": "6fb73c78",
   "metadata": {},
   "outputs": [],
   "source": []
  },
  {
   "cell_type": "code",
   "execution_count": null,
   "id": "afd0132d",
   "metadata": {},
   "outputs": [],
   "source": []
  },
  {
   "cell_type": "code",
   "execution_count": null,
   "id": "ace9cd88",
   "metadata": {},
   "outputs": [],
   "source": []
  },
  {
   "cell_type": "code",
   "execution_count": null,
   "id": "aecacf24",
   "metadata": {},
   "outputs": [],
   "source": []
  }
 ],
 "metadata": {
  "kernelspec": {
   "display_name": "Python 3 (ipykernel)",
   "language": "python",
   "name": "python3"
  },
  "language_info": {
   "codemirror_mode": {
    "name": "ipython",
    "version": 3
   },
   "file_extension": ".py",
   "mimetype": "text/x-python",
   "name": "python",
   "nbconvert_exporter": "python",
   "pygments_lexer": "ipython3",
   "version": "3.11.5"
  }
 },
 "nbformat": 4,
 "nbformat_minor": 5
}
